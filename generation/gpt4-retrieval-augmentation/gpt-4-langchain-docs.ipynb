{
  "cells": [
    {
      "cell_type": "markdown",
      "metadata": {
        "id": "k1vUfoi41NYd"
      },
      "source": [
        "[![Open In Colab](https://colab.research.google.com/assets/colab-badge.svg)](https://colab.research.google.com/github/pinecone-io/examples/blob/master/generation/gpt4-retrieval-augmentation.ipynb) [![Open nbviewer](https://raw.githubusercontent.com/pinecone-io/examples/master/assets/nbviewer-shield.svg)](https://nbviewer.org/github/pinecone-io/examples/blob/master/generation/gpt4-retrieval-augmentation.ipynb)"
      ]
    },
    {
      "cell_type": "code",
      "source": [
        "from google.colab import drive\n",
        "drive.mount('/content/drive')"
      ],
      "metadata": {
        "id": "LYy8QyORfMds",
        "outputId": "3c8cca87-667f-42b3-9c13-392f2caafbb6",
        "colab": {
          "base_uri": "https://localhost:8080/"
        }
      },
      "execution_count": 2,
      "outputs": [
        {
          "output_type": "stream",
          "name": "stdout",
          "text": [
            "Drive already mounted at /content/drive; to attempt to forcibly remount, call drive.mount(\"/content/drive\", force_remount=True).\n"
          ]
        }
      ]
    },
    {
      "cell_type": "code",
      "source": [
        "import json\n",
        "\n",
        "with open('/content/drive/MyDrive/API/KEY.json', 'r') as file_to_read:\n",
        "    json_data = json.load(file_to_read)"
      ],
      "metadata": {
        "id": "Q7VThnrmfNpa"
      },
      "execution_count": 4,
      "outputs": []
    },
    {
      "cell_type": "code",
      "execution_count": 5,
      "metadata": {
        "colab": {
          "base_uri": "https://localhost:8080/"
        },
        "id": "_HDKlQO5svqI",
        "outputId": "6b6e9905-22ce-402f-e15d-c9f49cd7199b"
      },
      "outputs": [
        {
          "output_type": "stream",
          "name": "stdout",
          "text": [
            "  Preparing metadata (setup.py) ... \u001b[?25l\u001b[?25hdone\n",
            "\u001b[2K     \u001b[90m━━━━━━━━━━━━━━━━━━━━━━━━━━━━━━━━━━━━━━━━\u001b[0m \u001b[32m1.7/1.7 MB\u001b[0m \u001b[31m51.4 MB/s\u001b[0m eta \u001b[36m0:00:00\u001b[0m\n",
            "\u001b[2K     \u001b[90m━━━━━━━━━━━━━━━━━━━━━━━━━━━━━━━━━━━━━━━━\u001b[0m \u001b[32m70.1/70.1 KB\u001b[0m \u001b[31m8.6 MB/s\u001b[0m eta \u001b[36m0:00:00\u001b[0m\n",
            "\u001b[2K     \u001b[90m━━━━━━━━━━━━━━━━━━━━━━━━━━━━━━━━━━━━━━\u001b[0m \u001b[32m426.3/426.3 KB\u001b[0m \u001b[31m33.1 MB/s\u001b[0m eta \u001b[36m0:00:00\u001b[0m\n",
            "\u001b[2K     \u001b[90m━━━━━━━━━━━━━━━━━━━━━━━━━━━━━━━━━━━━━━\u001b[0m \u001b[32m177.2/177.2 KB\u001b[0m \u001b[31m19.8 MB/s\u001b[0m eta \u001b[36m0:00:00\u001b[0m\n",
            "\u001b[2K     \u001b[90m━━━━━━━━━━━━━━━━━━━━━━━━━━━━━━━━━━━━━━━━\u001b[0m \u001b[32m1.0/1.0 MB\u001b[0m \u001b[31m45.1 MB/s\u001b[0m eta \u001b[36m0:00:00\u001b[0m\n",
            "\u001b[2K     \u001b[90m━━━━━━━━━━━━━━━━━━━━━━━━━━━━━━━━━━━━━━━━\u001b[0m \u001b[32m58.3/58.3 KB\u001b[0m \u001b[31m5.9 MB/s\u001b[0m eta \u001b[36m0:00:00\u001b[0m\n",
            "\u001b[2K     \u001b[90m━━━━━━━━━━━━━━━━━━━━━━━━━━━━━━━━━━━━━━\u001b[0m \u001b[32m283.7/283.7 KB\u001b[0m \u001b[31m25.9 MB/s\u001b[0m eta \u001b[36m0:00:00\u001b[0m\n",
            "\u001b[2K     \u001b[90m━━━━━━━━━━━━━━━━━━━━━━━━━━━━━━━━━━━━━━━━\u001b[0m \u001b[32m1.1/1.1 MB\u001b[0m \u001b[31m48.6 MB/s\u001b[0m eta \u001b[36m0:00:00\u001b[0m\n",
            "\u001b[2K     \u001b[90m━━━━━━━━━━━━━━━━━━━━━━━━━━━━━━━━━━━━━━━━\u001b[0m \u001b[32m1.3/1.3 MB\u001b[0m \u001b[31m51.6 MB/s\u001b[0m eta \u001b[36m0:00:00\u001b[0m\n",
            "\u001b[2K     \u001b[90m━━━━━━━━━━━━━━━━━━━━━━━━━━━━━━━━━━━━━━\u001b[0m \u001b[32m158.8/158.8 KB\u001b[0m \u001b[31m14.3 MB/s\u001b[0m eta \u001b[36m0:00:00\u001b[0m\n",
            "\u001b[2K     \u001b[90m━━━━━━━━━━━━━━━━━━━━━━━━━━━━━━━━━━━━━━\u001b[0m \u001b[32m264.6/264.6 KB\u001b[0m \u001b[31m22.8 MB/s\u001b[0m eta \u001b[36m0:00:00\u001b[0m\n",
            "\u001b[2K     \u001b[90m━━━━━━━━━━━━━━━━━━━━━━━━━━━━━━━━━━━━━━\u001b[0m \u001b[32m114.2/114.2 KB\u001b[0m \u001b[31m13.2 MB/s\u001b[0m eta \u001b[36m0:00:00\u001b[0m\n",
            "\u001b[2K     \u001b[90m━━━━━━━━━━━━━━━━━━━━━━━━━━━━━━━━━━━━━━━━\u001b[0m \u001b[32m49.1/49.1 KB\u001b[0m \u001b[31m5.6 MB/s\u001b[0m eta \u001b[36m0:00:00\u001b[0m\n",
            "\u001b[2K     \u001b[90m━━━━━━━━━━━━━━━━━━━━━━━━━━━━━━━━━━━━━━\u001b[0m \u001b[32m223.0/223.0 KB\u001b[0m \u001b[31m22.2 MB/s\u001b[0m eta \u001b[36m0:00:00\u001b[0m\n",
            "\u001b[2K     \u001b[90m━━━━━━━━━━━━━━━━━━━━━━━━━━━━━━━━━━━━━━\u001b[0m \u001b[32m218.0/218.0 KB\u001b[0m \u001b[31m23.1 MB/s\u001b[0m eta \u001b[36m0:00:00\u001b[0m\n",
            "\u001b[2K     \u001b[90m━━━━━━━━━━━━━━━━━━━━━━━━━━━━━━━━━━━━━━\u001b[0m \u001b[32m218.0/218.0 KB\u001b[0m \u001b[31m22.7 MB/s\u001b[0m eta \u001b[36m0:00:00\u001b[0m\n",
            "\u001b[2K     \u001b[90m━━━━━━━━━━━━━━━━━━━━━━━━━━━━━━━━━━━━━━\u001b[0m \u001b[32m211.7/211.7 KB\u001b[0m \u001b[31m24.2 MB/s\u001b[0m eta \u001b[36m0:00:00\u001b[0m\n",
            "\u001b[?25h  Building wheel for bs4 (setup.py) ... \u001b[?25l\u001b[?25hdone\n",
            "\u001b[31mERROR: pip's dependency resolver does not currently take into account all the packages that are installed. This behaviour is the source of the following dependency conflicts.\n",
            "tensorflow-hub 0.13.0 requires protobuf>=3.19.6, but you have protobuf 3.19.3 which is incompatible.\n",
            "google-cloud-translate 3.8.4 requires protobuf!=3.20.0,!=3.20.1,!=4.21.0,!=4.21.1,!=4.21.2,!=4.21.3,!=4.21.4,!=4.21.5,<5.0.0dev,>=3.19.5, but you have protobuf 3.19.3 which is incompatible.\n",
            "google-cloud-language 2.6.1 requires protobuf!=3.20.0,!=3.20.1,!=4.21.0,!=4.21.1,!=4.21.2,!=4.21.3,!=4.21.4,!=4.21.5,<5.0.0dev,>=3.19.5, but you have protobuf 3.19.3 which is incompatible.\n",
            "google-cloud-firestore 2.7.3 requires protobuf!=3.20.0,!=3.20.1,!=4.21.0,!=4.21.1,!=4.21.2,!=4.21.3,!=4.21.4,!=4.21.5,<5.0.0dev,>=3.19.5, but you have protobuf 3.19.3 which is incompatible.\n",
            "google-cloud-datastore 2.11.1 requires protobuf!=3.20.0,!=3.20.1,!=4.21.0,!=4.21.1,!=4.21.2,!=4.21.3,!=4.21.4,!=4.21.5,<5.0.0dev,>=3.19.5, but you have protobuf 3.19.3 which is incompatible.\n",
            "google-cloud-bigquery 3.4.2 requires protobuf!=3.20.0,!=3.20.1,!=4.21.0,!=4.21.1,!=4.21.2,!=4.21.3,!=4.21.4,!=4.21.5,<5.0.0dev,>=3.19.5, but you have protobuf 3.19.3 which is incompatible.\n",
            "google-cloud-bigquery-storage 2.19.0 requires protobuf!=3.20.0,!=3.20.1,!=4.21.0,!=4.21.1,!=4.21.2,!=4.21.3,!=4.21.4,!=4.21.5,<5.0.0dev,>=3.19.5, but you have protobuf 3.19.3 which is incompatible.\n",
            "google-api-core 2.11.0 requires protobuf!=3.20.0,!=3.20.1,!=4.21.0,!=4.21.1,!=4.21.2,!=4.21.3,!=4.21.4,!=4.21.5,<5.0.0dev,>=3.19.5, but you have protobuf 3.19.3 which is incompatible.\u001b[0m\u001b[31m\n",
            "\u001b[0m"
          ]
        }
      ],
      "source": [
        "!pip install -qU bs4 tiktoken openai langchain pinecone-client[grpc]"
      ]
    },
    {
      "cell_type": "code",
      "execution_count": 6,
      "metadata": {
        "colab": {
          "base_uri": "https://localhost:8080/"
        },
        "id": "xo9gYhGPr_DQ",
        "outputId": "92792c18-bbf5-4f87-d4e7-a5be0eb00b9f"
      },
      "outputs": [
        {
          "output_type": "execute_result",
          "data": {
            "text/plain": [
              "<Response [200]>"
            ]
          },
          "metadata": {},
          "execution_count": 6
        }
      ],
      "source": [
        "import requests\n",
        "\n",
        "res = requests.get(\"https://langchain.readthedocs.io/en/latest/\")\n",
        "res"
      ]
    },
    {
      "cell_type": "code",
      "execution_count": 7,
      "metadata": {
        "colab": {
          "base_uri": "https://localhost:8080/"
        },
        "id": "n40_0MtlsKgM",
        "outputId": "296e8137-891a-41f9-98f8-7af2d04db03e"
      },
      "outputs": [
        {
          "output_type": "stream",
          "name": "stdout",
          "text": [
            ".rst .pdf Welcome to LangChain Contents Getting Started Modules Use Cases Reference Docs LangChain Ecosystem Additional Resources Welcome to LangChain# Large language models (LLMs) are emerging as a transformative technology, enabling developers to build applications that they previously could not. But using these LLMs in isolation is often not enough to create a truly powerful app - the real power comes when you are able to combine them with other sources of computation or knowledge. This library is aimed at assisting in the development of those types of applications. Common examples of these types of applications include: ❓ Question Answering over specific documents Documentation End-to-end Example: Question Answering over Notion Database 💬 Chatbots Documentation End-to-end Example: Chat-LangChain 🤖 Agents Documentation End-to-end Example: GPT+WolframAlpha Getting Started# Checkout the below guide for a walkthrough of how to get started using LangChain to create an Language Model application. Getting Started Documentation Modules# There are several main modules that LangChain provides support for. For each module we provide some examples to get started, how-to guides, reference docs, and conceptual guides. These modules are, in increasing order of complexity: Prompts: This includes prompt management, prompt optimization, and prompt serialization. LLMs: This includes a generic interface for all LLMs, and common utilities for working with LLMs. Document Loaders: This includes a standard interface for loading documents, as well as specific integrations to all types of text data sources. Utils: Language models are often more powerful when interacting with other sources of knowledge or computation. This can include Python REPLs, embeddings, search engines, and more. LangChain provides a large collection of common utils to use in your application. Chains: Chains go beyond just a single LLM call, and are sequences of calls (whether to an LLM or a different utility). LangChain provides a standard interface for chains, lots of integrations with other tools, and end-to-end chains for common applications. Indexes: Language models are often more powerful when combined with your own text data - this module covers best practices for doing exactly that. Agents: Agents involve an LLM making decisions about which Actions to take, taking that Action, seeing an Observation, and repeating that until done. LangChain provides a standard interface for agents, a selection of agents to choose from, and examples of end to end agents. Memory: Memory is the concept of persisting state between calls of a chain/agent. LangChain provides a standard interface for memory, a collection of memory implementations, and examples of chains/agents that use memory. Chat: Chat models are a variation on Language Models that expose a different API - rather than working with raw text, they work with messages. LangChain provides a standard interface for working with them and doing all the same things as above. Use Cases# The above modules can be used in a variety of ways. LangChain also provides guidance and assistance in this. Below are some of the common use cases LangChain supports. Agents: Agents are systems that use a language model to interact with other tools. These can be used to do more grounded question/answering, interact with APIs, or even take actions. Chatbots: Since language models are good at producing text, that makes them ideal for creating chatbots. Data Augmented Generation: Data Augmented Generation involves specific types of chains that first interact with an external datasource to fetch data to use in the generation step. Examples of this include summarization of long pieces of text and question/answering over specific data sources. Question Answering: Answering questions over specific documents, only utilizing the information in those documents to construct an answer. A type of Data Augmented Generation. Summarization: Summarizing longer documents into shorter, more condensed chunks of information. A type of Data Augmented Generation. Querying Tabular Data: If you want to understand how to use LLMs to query data that is stored in a tabular format (csvs, SQL, dataframes, etc) you should read this page. Evaluation: Generative models are notoriously hard to evaluate with traditional metrics. One new way of evaluating them is using language models themselves to do the evaluation. LangChain provides some prompts/chains for assisting in this. Generate similar examples: Generating similar examples to a given input. This is a common use case for many applications, and LangChain provides some prompts/chains for assisting in this. Compare models: Experimenting with different prompts, models, and chains is a big part of developing the best possible application. The ModelLaboratory makes it easy to do so. Reference Docs# All of LangChain’s reference documentation, in one place. Full documentation on all methods, classes, installation methods, and integration setups for LangChain. Reference Documentation LangChain Ecosystem# Guides for how other companies/products can be used with LangChain LangChain Ecosystem Additional Resources# Additional collection of resources we think may be useful as you develop your application! LangChainHub: The LangChainHub is a place to share and explore other prompts, chains, and agents. Glossary: A glossary of all related terms, papers, methods, etc. Whether implemented in LangChain or not! Gallery: A collection of our favorite projects that use LangChain. Useful for finding inspiration or seeing how things were done in other applications. Deployments: A collection of instructions, code snippets, and template repositories for deploying LangChain apps. Discord: Join us on our Discord to discuss all things LangChain! Tracing: A guide on using tracing in LangChain to visualize the execution of chains and agents. Production Support: As you move your LangChains into production, we’d love to offer more comprehensive support. Please fill out this form and we’ll set up a dedicated support Slack channel. next Quickstart Guide Contents Getting Started Modules Use Cases Reference Docs LangChain Ecosystem Additional Resources By Harrison Chase © Copyright 2023, Harrison Chase. Last updated on Mar 24, 2023.\n"
          ]
        }
      ],
      "source": [
        "from bs4 import BeautifulSoup\n",
        "import urllib.parse\n",
        "import html\n",
        "import re\n",
        "\n",
        "domain = \"https://langchain.readthedocs.io/\"\n",
        "domain_full = domain+\"en/latest/\"\n",
        "\n",
        "soup = BeautifulSoup(res.text, 'html.parser')\n",
        "\n",
        "# Find all links to local pages on the website\n",
        "local_links = []\n",
        "for link in soup.find_all('a', href=True):\n",
        "    href = link['href']\n",
        "    if href.startswith(domain) or href.startswith('./') \\\n",
        "        or href.startswith('/') or href.startswith('modules') \\\n",
        "        or href.startswith('use_cases'):\n",
        "        local_links.append(urllib.parse.urljoin(domain_full, href))\n",
        "\n",
        "# Find the main content using CSS selectors\n",
        "main_content = soup.select('body main')[0]\n",
        "\n",
        "# Extract the HTML code of the main content\n",
        "main_content_html = str(main_content)\n",
        "\n",
        "# Extract the plaintext of the main content\n",
        "main_content_text = main_content.get_text()\n",
        "\n",
        "# Remove all HTML tags\n",
        "main_content_text = re.sub(r'<[^>]+>', '', main_content_text)\n",
        "\n",
        "# Remove extra white space\n",
        "main_content_text = ' '.join(main_content_text.split())\n",
        "\n",
        "# Replace HTML entities with their corresponding characters\n",
        "main_content_text = html.unescape(main_content_text)\n",
        "\n",
        "print(main_content_text)"
      ]
    },
    {
      "cell_type": "code",
      "execution_count": 8,
      "metadata": {
        "id": "OcIkny_6xiZJ"
      },
      "outputs": [],
      "source": [
        "def scrape(url: str):\n",
        "    res = requests.get(url)\n",
        "    if res.status_code != 200:\n",
        "        print(f\"{res.status_code} for '{url}'\")\n",
        "        return None\n",
        "    soup = BeautifulSoup(res.text, 'html.parser')\n",
        "\n",
        "    # Find all links to local pages on the website\n",
        "    local_links = []\n",
        "    for link in soup.find_all('a', href=True):\n",
        "        href = link['href']\n",
        "        if href.startswith(domain) or href.startswith('./') \\\n",
        "            or href.startswith('/') or href.startswith('modules') \\\n",
        "            or href.startswith('use_cases'):\n",
        "            local_links.append(urllib.parse.urljoin(domain_full, href))\n",
        "\n",
        "    # Find the main content using CSS selectors\n",
        "    main_content = soup.select('body main')[0]\n",
        "\n",
        "    # Extract the HTML code of the main content\n",
        "    main_content_html = str(main_content)\n",
        "\n",
        "    # Extract the plaintext of the main content\n",
        "    main_content_text = main_content.get_text()\n",
        "\n",
        "    # Remove all HTML tags\n",
        "    main_content_text = re.sub(r'<[^>]+>', '', main_content_text)\n",
        "\n",
        "    # Remove extra white space\n",
        "    main_content_text = ' '.join(main_content_text.split())\n",
        "\n",
        "    # Replace HTML entities with their corresponding characters\n",
        "    main_content_text = html.unescape(main_content_text)\n",
        "\n",
        "    # return as json\n",
        "    return {\n",
        "        \"url\": url,\n",
        "        \"text\": main_content_text\n",
        "    }, local_links"
      ]
    },
    {
      "cell_type": "code",
      "execution_count": 9,
      "metadata": {
        "colab": {
          "base_uri": "https://localhost:8080/"
        },
        "id": "NGUGao9_uNH3",
        "outputId": "7dcfbe35-91c3-4589-f3b8-d954cd3cc011"
      },
      "outputs": [
        {
          "output_type": "stream",
          "name": "stdout",
          "text": [
            "https://langchain.readthedocs.io/en/latest/\n",
            "https://langchain.readthedocs.io/en/latest/use_cases/evaluation/qa_generation.html\n",
            "https://langchain.readthedocs.io/en/latest/modules/document_loaders/examples/imsdb.html\n",
            "https://langchain.readthedocs.io/en/latest/modules/prompts.html\n",
            "https://langchain.readthedocs.io/en/latest/modules/llms/integrations/openai.html\n",
            "https://langchain.readthedocs.io/en/latest/modules/chains/getting_started.html\n",
            "https://langchain.readthedocs.io/en/latest/modules/llms/integrations/modal.html\n",
            "https://langchain.readthedocs.io/en/latest/modules/agents/examples/async_agent.html\n",
            "https://langchain.readthedocs.io/en/latest/modules/document_loaders/examples/s3_directory.html\n",
            "https://langchain.readthedocs.io/en/latest/modules/llms/integrations/banana.html\n",
            "https://langchain.readthedocs.io/en/latest/modules/agents/examples/max_iterations.html\n",
            "https://langchain.readthedocs.io/en/latest/modules/memory/types/buffer_window.html\n",
            "https://langchain.readthedocs.io/en/latest/modules/utils/examples/requests.html\n",
            "https://langchain.readthedocs.io/en/latest/modules/indexes/vectorstore_examples/pgvector.html\n",
            "https://langchain.readthedocs.io/en/latest/deployments.html\n",
            "https://langchain.readthedocs.io/en/latest/use_cases/generate_examples.html\n",
            "https://langchain.readthedocs.io/en/latest/modules/prompts/how_to_guides.html\n",
            "https://langchain.readthedocs.io/en/latest/modules/agents/agent_toolkits/csv.html\n",
            "https://langchain.readthedocs.io/en/latest/modules/indexes/vectorstore_examples/atlas.html\n",
            "https://langchain.readthedocs.io/en/latest/modules/indexes/chain_examples/vector_db_qa.html\n",
            "https://langchain.readthedocs.io/en/latest/use_cases/evaluation/huggingface_datasets.html\n",
            "https://langchain.readthedocs.io/en/latest/modules/chains/examples/llm_math.html\n",
            "https://langchain.readthedocs.io/en/latest/modules/llms/integrations/forefrontai_example.html\n",
            "https://langchain.readthedocs.io/en/latest/modules/chains/generic/llm_chain.html\n",
            "https://langchain.readthedocs.io/en/latest/modules/indexes/vectorstore_examples/redis.html\n",
            "https://langchain.readthedocs.io/en/latest/modules/chat/examples/vector_db_qa.html\n",
            "https://langchain.readthedocs.io/en/latest/modules/chat/examples/chat_vector_db.html\n",
            "https://langchain.readthedocs.io/en/latest/modules/chat/examples/streaming.html\n",
            "https://langchain.readthedocs.io/en/latest/use_cases/summarization.html\n",
            "https://langchain.readthedocs.io/en/latest/modules/document_loaders/examples/url.html\n",
            "https://langchain.readthedocs.io/en/latest/modules/chains/examples/llm_bash.html\n",
            "https://langchain.readthedocs.io/en/latest/modules/prompts/examples/example_selectors.html\n",
            "https://langchain.readthedocs.io/en/latest/modules/document_loaders/examples/email.html\n",
            "https://langchain.readthedocs.io/en/latest/modules/chains.html\n",
            "https://langchain.readthedocs.io/en/latest/chains/key_concepts.html\n",
            "404 for 'https://langchain.readthedocs.io/en/latest/chains/key_concepts.html'\n",
            "https://langchain.readthedocs.io/en/latest/use_cases/agents.html\n",
            "https://langchain.readthedocs.io/en/latest/modules/agents/implementations/react.html\n",
            "https://langchain.readthedocs.io/en/latest/use_cases/evaluation/qa_benchmarking_sota.html\n",
            "https://langchain.readthedocs.io/en/latest/modules/indexes/chain_examples/qa_with_sources.html\n",
            "https://langchain.readthedocs.io/en/latest/ecosystem.html\n",
            "https://langchain.readthedocs.io/en/latest/modules/document_loaders/examples/gcs_directory.html\n",
            "https://langchain.readthedocs.io/en/latest/modules/document_loaders/examples/notebook.html\n",
            "https://langchain.readthedocs.io/en/latest/examples/example_selectors.html\n",
            "404 for 'https://langchain.readthedocs.io/en/latest/examples/example_selectors.html'\n",
            "https://langchain.readthedocs.io/en/latest/modules/document_loaders/key_concepts.html\n",
            "https://langchain.readthedocs.io/en/latest/modules/chains/examples/llm_checker.html\n",
            "https://langchain.readthedocs.io/en/latest/modules/utils/examples/bing_search.html\n",
            "https://langchain.readthedocs.io/en/latest/modules/llms/examples/llm_serialization.html\n",
            "https://langchain.readthedocs.io/en/latest/modules/document_loaders/examples/blackboard.html\n",
            "https://langchain.readthedocs.io/en/latest/use_cases/combine_docs.html\n",
            "https://langchain.readthedocs.io/en/latest/modules/agents/examples/custom_tools.html\n",
            "https://langchain.readthedocs.io/en/latest/modules/memory/examples/adding_memory.html\n",
            "https://langchain.readthedocs.io/en/latest/modules/indexes/vectorstore_examples/opensearch.html\n",
            "https://langchain.readthedocs.io/en/latest/modules/indexes/vectorstore_examples/chroma.html\n",
            "https://langchain.readthedocs.io/en/latest/modules/chains/key_concepts.html\n",
            "https://langchain.readthedocs.io/en/latest/modules/agents/examples/search_tools.html\n",
            "https://langchain.readthedocs.io/en/latest/modules/indexes/vectorstore_examples/elasticsearch.html\n",
            "https://langchain.readthedocs.io/en/latest/chains/how_to_guides.html\n",
            "404 for 'https://langchain.readthedocs.io/en/latest/chains/how_to_guides.html'\n",
            "https://langchain.readthedocs.io/en/latest/chains/getting_started.html\n",
            "404 for 'https://langchain.readthedocs.io/en/latest/chains/getting_started.html'\n",
            "https://langchain.readthedocs.io/en/latest/modules/indexes/chain_examples/question_answering.html\n",
            "https://langchain.readthedocs.io/en/latest/modules/indexes/examples/textsplitter.html\n",
            "https://langchain.readthedocs.io/en/latest/modules/indexes/vectorstore_examples/qdrant.html\n",
            "https://langchain.readthedocs.io/en/latest/modules/chains/examples/llm_summarization_checker.html\n",
            "https://langchain.readthedocs.io/en/latest/modules/chains/how_to_guides.html\n",
            "https://langchain.readthedocs.io/en/latest/generic_how_to.html\n",
            "404 for 'https://langchain.readthedocs.io/en/latest/generic_how_to.html'\n",
            "https://langchain.readthedocs.io/en/latest/async_chain.html\n",
            "404 for 'https://langchain.readthedocs.io/en/latest/async_chain.html'\n",
            "https://langchain.readthedocs.io/en/latest/modules/document_loaders/examples/ifixit.html\n",
            "https://langchain.readthedocs.io/en/latest/modules/chains/async_chain.html\n",
            "https://langchain.readthedocs.io/en/latest/modules/agents/examples/custom_agent.html\n",
            "https://langchain.readthedocs.io/en/latest/modules/agents/examples/multi_input_tool.html\n",
            "https://langchain.readthedocs.io/en/latest/modules/agents/examples/human_tools.html\n",
            "https://langchain.readthedocs.io/en/latest/use_cases/evaluation/data_augmented_question_answering.html\n",
            "https://langchain.readthedocs.io/en/latest/modules/document_loaders/examples/CoNLL-U.html\n",
            "https://langchain.readthedocs.io/en/latest/modules/indexes/chain_examples/graph_qa.html\n",
            "https://langchain.readthedocs.io/en/latest/modules/agents/agent_toolkits/openapi.html\n",
            "https://langchain.readthedocs.io/en/latest/modules/prompts/examples/few_shot_examples.html\n",
            "https://langchain.readthedocs.io/en/latest/modules/llms/integrations/stochasticai.html\n",
            "https://langchain.readthedocs.io/en/latest/modules/utils/examples/serpapi.html\n",
            "https://langchain.readthedocs.io/en/latest/modules/chains/examples/api.html\n",
            "https://langchain.readthedocs.io/en/latest/modules/document_loaders/examples/html.html\n",
            "https://langchain.readthedocs.io/en/latest/modules/document_loaders/examples/copypaste.html\n",
            "https://langchain.readthedocs.io/en/latest/modules/memory/examples/conversational_agent.html\n",
            "https://langchain.readthedocs.io/en/latest/modules/utils/key_concepts.html\n",
            "https://langchain.readthedocs.io/en/latest/modules/llms/integrations/self_hosted_examples.html\n",
            "https://langchain.readthedocs.io/en/latest/modules/memory/types/entity_summary_memory.html\n",
            "https://langchain.readthedocs.io/en/latest/use_cases/evaluation/qa_benchmarking_pg.html\n",
            "https://langchain.readthedocs.io/en/latest/modules/document_loaders/how_to_guides.html\n",
            "https://langchain.readthedocs.io/en/latest/examples/copypaste.html\n",
            "404 for 'https://langchain.readthedocs.io/en/latest/examples/copypaste.html'\n",
            "https://langchain.readthedocs.io/en/latest/examples/youtube.html\n",
            "404 for 'https://langchain.readthedocs.io/en/latest/examples/youtube.html'\n",
            "https://langchain.readthedocs.io/en/latest/examples/gcs_directory.html\n",
            "404 for 'https://langchain.readthedocs.io/en/latest/examples/gcs_directory.html'\n",
            "https://langchain.readthedocs.io/en/latest/examples/directory_loader.html\n",
            "404 for 'https://langchain.readthedocs.io/en/latest/examples/directory_loader.html'\n",
            "https://langchain.readthedocs.io/en/latest/examples/college_confidential.html\n",
            "404 for 'https://langchain.readthedocs.io/en/latest/examples/college_confidential.html'\n",
            "https://langchain.readthedocs.io/en/latest/examples/azlyrics.html\n",
            "404 for 'https://langchain.readthedocs.io/en/latest/examples/azlyrics.html'\n",
            "https://langchain.readthedocs.io/en/latest/examples/facebook_chat.html\n",
            "404 for 'https://langchain.readthedocs.io/en/latest/examples/facebook_chat.html'\n",
            "https://langchain.readthedocs.io/en/latest/examples/unstructured_file.html\n",
            "404 for 'https://langchain.readthedocs.io/en/latest/examples/unstructured_file.html'\n",
            "https://langchain.readthedocs.io/en/latest/examples/gcs_file.html\n",
            "404 for 'https://langchain.readthedocs.io/en/latest/examples/gcs_file.html'\n",
            "https://langchain.readthedocs.io/en/latest/examples/srt.html\n",
            "404 for 'https://langchain.readthedocs.io/en/latest/examples/srt.html'\n",
            "https://langchain.readthedocs.io/en/latest/examples/blackboard.html\n",
            "404 for 'https://langchain.readthedocs.io/en/latest/examples/blackboard.html'\n",
            "https://langchain.readthedocs.io/en/latest/modules/indexes/chain_examples/chat_vector_db.html\n",
            "https://langchain.readthedocs.io/en/latest/modules/prompts/examples/output_parsers.html\n",
            "https://langchain.readthedocs.io/en/latest/modules/document_loaders/examples/directory_loader.html\n",
            "https://langchain.readthedocs.io/en/latest/gallery.html\n",
            "https://langchain.readthedocs.io/en/latest/modules/document_loaders/examples/gcs_file.html\n",
            "https://langchain.readthedocs.io/en/latest/modules/memory/examples/adding_memory_chain_multiple_inputs.html\n",
            "https://langchain.readthedocs.io/en/latest/examples/markdown.html\n",
            "404 for 'https://langchain.readthedocs.io/en/latest/examples/markdown.html'\n",
            "https://langchain.readthedocs.io/en/latest/prompts/getting_started.html\n",
            "404 for 'https://langchain.readthedocs.io/en/latest/prompts/getting_started.html'\n",
            "https://langchain.readthedocs.io/en/latest/modules/llms/integrations/aleph_alpha.html\n",
            "https://langchain.readthedocs.io/en/latest/modules/llms/key_concepts.html\n",
            "https://langchain.readthedocs.io/en/latest/modules/document_loaders/examples/notion.html\n",
            "https://langchain.readthedocs.io/en/latest/modules/document_loaders/examples/readthedocs_documentation.html\n",
            "https://langchain.readthedocs.io/en/latest/modules/llms/integrations/manifest.html\n",
            "https://langchain.readthedocs.io/en/latest/modules/chat/examples/promptlayer_chatopenai.html\n",
            "https://langchain.readthedocs.io/en/latest/modules/prompts/key_concepts.html\n",
            "https://langchain.readthedocs.io/en/latest/examples/pdf.html\n",
            "404 for 'https://langchain.readthedocs.io/en/latest/examples/pdf.html'\n",
            "https://langchain.readthedocs.io/en/latest/modules/agents/examples/serialization.html\n",
            "https://langchain.readthedocs.io/en/latest/modules/agents/getting_started.html\n",
            "https://langchain.readthedocs.io/en/latest/modules/memory/types/token_buffer.html\n",
            "https://langchain.readthedocs.io/en/latest/examples/notion.html\n",
            "404 for 'https://langchain.readthedocs.io/en/latest/examples/notion.html'\n",
            "https://langchain.readthedocs.io/en/latest/modules/memory/examples/custom_memory.html\n",
            "https://langchain.readthedocs.io/en/latest/modules/agents/agent_toolkits/vectorstore.html\n",
            "https://langchain.readthedocs.io/en/latest/modules/agents/agent_toolkits/pandas.html\n",
            "https://langchain.readthedocs.io/en/latest/modules/llms/examples/llm_caching.html\n",
            "https://langchain.readthedocs.io/en/latest/modules/utils/how_to_guides.html\n",
            "https://langchain.readthedocs.io/en/latest/examples/bing_search.html\n",
            "404 for 'https://langchain.readthedocs.io/en/latest/examples/bing_search.html'\n",
            "https://langchain.readthedocs.io/en/latest/examples/requests.html\n",
            "404 for 'https://langchain.readthedocs.io/en/latest/examples/requests.html'\n",
            "https://langchain.readthedocs.io/en/latest/examples/bash.html\n",
            "404 for 'https://langchain.readthedocs.io/en/latest/examples/bash.html'\n",
            "https://langchain.readthedocs.io/en/latest/examples/python.html\n",
            "404 for 'https://langchain.readthedocs.io/en/latest/examples/python.html'\n",
            "https://langchain.readthedocs.io/en/latest/modules/document_loaders/examples/azlyrics.html\n",
            "https://langchain.readthedocs.io/en/latest/examples/s3_file.html\n",
            "404 for 'https://langchain.readthedocs.io/en/latest/examples/s3_file.html'\n",
            "https://langchain.readthedocs.io/en/latest/modules/memory/examples/chatgpt_clone.html\n",
            "https://langchain.readthedocs.io/en/latest/modules/indexes/retriever_examples/vectorstore-retriever.html\n",
            "https://langchain.readthedocs.io/en/latest/modules/memory/how_to_guides.html\n",
            "https://langchain.readthedocs.io/en/latest/types/buffer.html\n",
            "404 for 'https://langchain.readthedocs.io/en/latest/types/buffer.html'\n",
            "https://langchain.readthedocs.io/en/latest/types/kg.html\n",
            "404 for 'https://langchain.readthedocs.io/en/latest/types/kg.html'\n",
            "https://langchain.readthedocs.io/en/latest/examples/adding_memory.html\n",
            "404 for 'https://langchain.readthedocs.io/en/latest/examples/adding_memory.html'\n",
            "https://langchain.readthedocs.io/en/latest/examples/agent_with_memory.html\n",
            "404 for 'https://langchain.readthedocs.io/en/latest/examples/agent_with_memory.html'\n",
            "https://langchain.readthedocs.io/en/latest/examples/adding_memory_chain_multiple_inputs.html\n",
            "404 for 'https://langchain.readthedocs.io/en/latest/examples/adding_memory_chain_multiple_inputs.html'\n",
            "https://langchain.readthedocs.io/en/latest/modules/agents/agent_toolkits/python.html\n",
            "https://langchain.readthedocs.io/en/latest/modules/chat/getting_started.html\n",
            "https://langchain.readthedocs.io/en/latest/modules/indexes/examples/embeddings.html\n",
            "https://langchain.readthedocs.io/en/latest/examples/wolfram_alpha.html\n",
            "404 for 'https://langchain.readthedocs.io/en/latest/examples/wolfram_alpha.html'\n",
            "https://langchain.readthedocs.io/en/latest/modules/document_loaders/examples/word_document.html\n",
            "https://langchain.readthedocs.io/en/latest/examples/image.html\n",
            "404 for 'https://langchain.readthedocs.io/en/latest/examples/image.html'\n",
            "https://langchain.readthedocs.io/en/latest/modules/chat/examples/memory.html\n",
            "https://langchain.readthedocs.io/en/latest/modules/utils.html\n",
            "https://langchain.readthedocs.io/en/latest/utils/key_concepts.html\n",
            "404 for 'https://langchain.readthedocs.io/en/latest/utils/key_concepts.html'\n",
            "https://langchain.readthedocs.io/en/latest/examples/chatgpt_clone.html\n",
            "404 for 'https://langchain.readthedocs.io/en/latest/examples/chatgpt_clone.html'\n",
            "https://langchain.readthedocs.io/en/latest/examples/multiple_memory.html\n",
            "404 for 'https://langchain.readthedocs.io/en/latest/examples/multiple_memory.html'\n",
            "https://langchain.readthedocs.io/en/latest/modules/indexes/how_to_guides.html\n",
            "https://langchain.readthedocs.io/en/latest/examples/embeddings.html\n",
            "404 for 'https://langchain.readthedocs.io/en/latest/examples/embeddings.html'\n",
            "https://langchain.readthedocs.io/en/latest/vectorstore_examples/weaviate.html\n",
            "404 for 'https://langchain.readthedocs.io/en/latest/vectorstore_examples/weaviate.html'\n",
            "https://langchain.readthedocs.io/en/latest/chain_examples/vector_db_text_generation.html\n",
            "404 for 'https://langchain.readthedocs.io/en/latest/chain_examples/vector_db_text_generation.html'\n",
            "https://langchain.readthedocs.io/en/latest/examples/textsplitter.html\n",
            "404 for 'https://langchain.readthedocs.io/en/latest/examples/textsplitter.html'\n",
            "https://langchain.readthedocs.io/en/latest/vectorstore_examples/opensearch.html\n",
            "404 for 'https://langchain.readthedocs.io/en/latest/vectorstore_examples/opensearch.html'\n",
            "https://langchain.readthedocs.io/en/latest/vectorstore_examples/qdrant.html\n",
            "404 for 'https://langchain.readthedocs.io/en/latest/vectorstore_examples/qdrant.html'\n",
            "https://langchain.readthedocs.io/en/latest/chain_examples/vector_db_qa_with_sources.html\n",
            "404 for 'https://langchain.readthedocs.io/en/latest/chain_examples/vector_db_qa_with_sources.html'\n",
            "https://langchain.readthedocs.io/en/latest/vectorstore_examples/deeplake.html\n",
            "404 for 'https://langchain.readthedocs.io/en/latest/vectorstore_examples/deeplake.html'\n",
            "https://langchain.readthedocs.io/en/latest/chain_examples/chat_vector_db.html\n",
            "404 for 'https://langchain.readthedocs.io/en/latest/chain_examples/chat_vector_db.html'\n",
            "https://langchain.readthedocs.io/en/latest/examples/hyde.html\n",
            "404 for 'https://langchain.readthedocs.io/en/latest/examples/hyde.html'\n",
            "https://langchain.readthedocs.io/en/latest/vectorstore_examples/pinecone.html\n",
            "404 for 'https://langchain.readthedocs.io/en/latest/vectorstore_examples/pinecone.html'\n",
            "https://langchain.readthedocs.io/en/latest/vectorstore_examples/elasticsearch.html\n",
            "404 for 'https://langchain.readthedocs.io/en/latest/vectorstore_examples/elasticsearch.html'\n",
            "https://langchain.readthedocs.io/en/latest/chain_examples/vector_db_qa.html\n",
            "404 for 'https://langchain.readthedocs.io/en/latest/chain_examples/vector_db_qa.html'\n",
            "https://langchain.readthedocs.io/en/latest/examples/prompt_serialization.html\n",
            "404 for 'https://langchain.readthedocs.io/en/latest/examples/prompt_serialization.html'\n",
            "https://langchain.readthedocs.io/en/latest/modules/indexes/getting_started.html\n",
            "https://langchain.readthedocs.io/en/latest/modules/llms/async_llm.html\n",
            "https://langchain.readthedocs.io/en/latest/examples/hn.html\n",
            "404 for 'https://langchain.readthedocs.io/en/latest/examples/hn.html'\n",
            "https://langchain.readthedocs.io/en/latest/chain_examples/graph_qa.html\n",
            "404 for 'https://langchain.readthedocs.io/en/latest/chain_examples/graph_qa.html'\n",
            "https://langchain.readthedocs.io/en/latest/examples/s3_directory.html\n",
            "404 for 'https://langchain.readthedocs.io/en/latest/examples/s3_directory.html'\n",
            "https://langchain.readthedocs.io/en/latest/modules/chains/examples/constitutional_chain.html\n",
            "https://langchain.readthedocs.io/en/latest/retriever_examples/vectorstore-retriever.html\n",
            "404 for 'https://langchain.readthedocs.io/en/latest/retriever_examples/vectorstore-retriever.html'\n",
            "https://langchain.readthedocs.io/en/latest/chain_examples/question_answering.html\n",
            "404 for 'https://langchain.readthedocs.io/en/latest/chain_examples/question_answering.html'\n",
            "https://langchain.readthedocs.io/en/latest/modules/chat/examples/agent.html\n",
            "https://langchain.readthedocs.io/en/latest/prompts/key_concepts.html\n",
            "404 for 'https://langchain.readthedocs.io/en/latest/prompts/key_concepts.html'\n",
            "https://langchain.readthedocs.io/en/latest/modules/llms/integrations/ai21.html\n",
            "https://langchain.readthedocs.io/en/latest/modules/llms/integrations/sagemaker.html\n",
            "https://langchain.readthedocs.io/en/latest/modules/agents/examples/chatgpt_plugins.html\n",
            "https://langchain.readthedocs.io/en/latest/examples/telegram.html\n",
            "404 for 'https://langchain.readthedocs.io/en/latest/examples/telegram.html'\n",
            "https://langchain.readthedocs.io/en/latest/getting_started.html\n",
            "404 for 'https://langchain.readthedocs.io/en/latest/getting_started.html'\n",
            "https://langchain.readthedocs.io/en/latest/modules/agents/key_concepts.html\n",
            "https://langchain.readthedocs.io/en/latest/modules/indexes/vectorstore_examples/weaviate.html\n",
            "https://langchain.readthedocs.io/en/latest/modules/indexes/examples/hyde.html\n",
            "https://langchain.readthedocs.io/en/latest/modules/utils/examples/zapier.html\n",
            "https://langchain.readthedocs.io/en/latest/modules/chains/examples/pal.html\n",
            "https://langchain.readthedocs.io/en/latest/modules/document_loaders/examples/evernote.html\n",
            "https://langchain.readthedocs.io/en/latest/modules/llms/generic_how_to.html\n",
            "https://langchain.readthedocs.io/en/latest/examples/llm_caching.html\n",
            "404 for 'https://langchain.readthedocs.io/en/latest/examples/llm_caching.html'\n",
            "https://langchain.readthedocs.io/en/latest/examples/llm_serialization.html\n",
            "404 for 'https://langchain.readthedocs.io/en/latest/examples/llm_serialization.html'\n",
            "https://langchain.readthedocs.io/en/latest/examples/token_usage_tracking.html\n",
            "404 for 'https://langchain.readthedocs.io/en/latest/examples/token_usage_tracking.html'\n",
            "https://langchain.readthedocs.io/en/latest/examples/custom_llm.html\n",
            "404 for 'https://langchain.readthedocs.io/en/latest/examples/custom_llm.html'\n",
            "https://langchain.readthedocs.io/en/latest/modules/chains/generic/serialization.html\n",
            "https://langchain.readthedocs.io/en/latest/modules/document_loaders/examples/googledrive.html\n",
            "https://langchain.readthedocs.io/en/latest/examples/conversational_agent.html\n",
            "404 for 'https://langchain.readthedocs.io/en/latest/examples/conversational_agent.html'\n",
            "https://langchain.readthedocs.io/en/latest/examples/vectorstores.html\n",
            "404 for 'https://langchain.readthedocs.io/en/latest/examples/vectorstores.html'\n",
            "https://langchain.readthedocs.io/en/latest/vectorstore_examples/chroma.html\n",
            "404 for 'https://langchain.readthedocs.io/en/latest/vectorstore_examples/chroma.html'\n",
            "https://langchain.readthedocs.io/en/latest/modules/document_loaders/examples/gitbook.html\n",
            "https://langchain.readthedocs.io/en/latest/modules/llms/integrations/writer.html\n",
            "https://langchain.readthedocs.io/en/latest/chain_examples/qa_with_sources.html\n",
            "404 for 'https://langchain.readthedocs.io/en/latest/chain_examples/qa_with_sources.html'\n",
            "https://langchain.readthedocs.io/en/latest/modules/agents/examples/agent_vectorstore.html\n",
            "https://langchain.readthedocs.io/en/latest/examples/serpapi.html\n",
            "404 for 'https://langchain.readthedocs.io/en/latest/examples/serpapi.html'\n",
            "https://langchain.readthedocs.io/en/latest/examples/html.html\n",
            "404 for 'https://langchain.readthedocs.io/en/latest/examples/html.html'\n",
            "https://langchain.readthedocs.io/en/latest/examples/evernote.html\n",
            "404 for 'https://langchain.readthedocs.io/en/latest/examples/evernote.html'\n",
            "https://langchain.readthedocs.io/en/latest/modules/memory/examples/agent_with_memory.html\n",
            "https://langchain.readthedocs.io/en/latest/modules/document_loaders/examples/srt.html\n",
            "https://langchain.readthedocs.io/en/latest/examples/airbyte_json.html\n",
            "404 for 'https://langchain.readthedocs.io/en/latest/examples/airbyte_json.html'\n",
            "https://langchain.readthedocs.io/en/latest/modules/document_loaders/examples/gutenberg.html\n",
            "https://langchain.readthedocs.io/en/latest/modules/chains/generic/sequential_chains.html\n",
            "https://langchain.readthedocs.io/en/latest/examples/ifixit.html\n",
            "404 for 'https://langchain.readthedocs.io/en/latest/examples/ifixit.html'\n",
            "https://langchain.readthedocs.io/en/latest/examples/url.html\n",
            "404 for 'https://langchain.readthedocs.io/en/latest/examples/url.html'\n",
            "https://langchain.readthedocs.io/en/latest/examples/powerpoint.html\n",
            "404 for 'https://langchain.readthedocs.io/en/latest/examples/powerpoint.html'\n",
            "https://langchain.readthedocs.io/en/latest/modules/agents/implementations/self_ask_with_search.html\n",
            "https://langchain.readthedocs.io/en/latest/vectorstore_examples/milvus.html\n",
            "404 for 'https://langchain.readthedocs.io/en/latest/vectorstore_examples/milvus.html'\n",
            "https://langchain.readthedocs.io/en/latest/modules/indexes/vectorstore_examples/milvus.html\n",
            "https://langchain.readthedocs.io/en/latest/modules/memory/types/kg.html\n",
            "https://langchain.readthedocs.io/en/latest/examples/obsidian.html\n",
            "404 for 'https://langchain.readthedocs.io/en/latest/examples/obsidian.html'\n",
            "https://langchain.readthedocs.io/en/latest/use_cases/question_answering.html\n",
            "https://langchain.readthedocs.io/en/latest/types/entity_summary_memory.html\n",
            "404 for 'https://langchain.readthedocs.io/en/latest/types/entity_summary_memory.html'\n",
            "https://langchain.readthedocs.io/en/latest/modules/chains/examples/moderation.html\n",
            "https://langchain.readthedocs.io/en/latest/examples/custom_memory.html\n",
            "404 for 'https://langchain.readthedocs.io/en/latest/examples/custom_memory.html'\n",
            "https://langchain.readthedocs.io/en/latest/utility_how_to.html\n",
            "404 for 'https://langchain.readthedocs.io/en/latest/utility_how_to.html'\n",
            "https://langchain.readthedocs.io/en/latest/modules/llms/getting_started.html\n",
            "https://langchain.readthedocs.io/en/latest/use_cases/evaluation/llm_math.html\n",
            "https://langchain.readthedocs.io/en/latest/vectorstore_examples/pgvector.html\n",
            "404 for 'https://langchain.readthedocs.io/en/latest/vectorstore_examples/pgvector.html'\n",
            "https://langchain.readthedocs.io/en/latest/modules/llms/integrations/anthropic_example.html\n",
            "https://langchain.readthedocs.io/en/latest/modules/indexes/vectorstore_examples/pinecone.html\n",
            "https://langchain.readthedocs.io/en/latest/modules/prompts/examples/custom_prompt_template.html\n",
            "https://langchain.readthedocs.io/en/latest/modules/llms/streaming_llm.html\n",
            "https://langchain.readthedocs.io/en/latest/generic/from_hub.html\n",
            "404 for 'https://langchain.readthedocs.io/en/latest/generic/from_hub.html'\n",
            "https://langchain.readthedocs.io/en/latest/use_cases/tabular.html\n",
            "https://langchain.readthedocs.io/en/latest/modules/document_loaders/examples/obsidian.html\n",
            "https://langchain.readthedocs.io/en/latest/modules/memory/examples/conversational_customization.html\n",
            "https://langchain.readthedocs.io/en/latest/modules/chains/examples/sqlite.html\n",
            "https://langchain.readthedocs.io/en/latest/modules/memory/key_concepts.html\n",
            "https://langchain.readthedocs.io/en/latest/use_cases/evaluation/agent_benchmarking.html\n",
            "https://langchain.readthedocs.io/en/latest/modules/agents/how_to_guides.html\n",
            "https://langchain.readthedocs.io/en/latest/examples/search_tools.html\n",
            "404 for 'https://langchain.readthedocs.io/en/latest/examples/search_tools.html'\n",
            "https://langchain.readthedocs.io/en/latest/agents.html\n",
            "404 for 'https://langchain.readthedocs.io/en/latest/agents.html'\n",
            "https://langchain.readthedocs.io/en/latest/examples/multi_input_tool.html\n",
            "404 for 'https://langchain.readthedocs.io/en/latest/examples/multi_input_tool.html'\n",
            "https://langchain.readthedocs.io/en/latest/agent_toolkits/openapi.html\n",
            "404 for 'https://langchain.readthedocs.io/en/latest/agent_toolkits/openapi.html'\n",
            "https://langchain.readthedocs.io/en/latest/examples/max_iterations.html\n",
            "404 for 'https://langchain.readthedocs.io/en/latest/examples/max_iterations.html'\n",
            "https://langchain.readthedocs.io/en/latest/examples/load_from_hub.html\n",
            "404 for 'https://langchain.readthedocs.io/en/latest/examples/load_from_hub.html'\n",
            "https://langchain.readthedocs.io/en/latest/examples/custom_tools.html\n",
            "404 for 'https://langchain.readthedocs.io/en/latest/examples/custom_tools.html'\n",
            "https://langchain.readthedocs.io/en/latest/examples/agent_vectorstore.html\n",
            "404 for 'https://langchain.readthedocs.io/en/latest/examples/agent_vectorstore.html'\n",
            "https://langchain.readthedocs.io/en/latest/examples/intermediate_steps.html\n",
            "404 for 'https://langchain.readthedocs.io/en/latest/examples/intermediate_steps.html'\n",
            "https://langchain.readthedocs.io/en/latest/agent_toolkits/sql_database.html\n",
            "404 for 'https://langchain.readthedocs.io/en/latest/agent_toolkits/sql_database.html'\n",
            "https://langchain.readthedocs.io/en/latest/agent_toolkits/python.html\n",
            "404 for 'https://langchain.readthedocs.io/en/latest/agent_toolkits/python.html'\n",
            "https://langchain.readthedocs.io/en/latest/examples/async_agent.html\n",
            "404 for 'https://langchain.readthedocs.io/en/latest/examples/async_agent.html'\n",
            "https://langchain.readthedocs.io/en/latest/agent_toolkits/pandas.html\n",
            "404 for 'https://langchain.readthedocs.io/en/latest/agent_toolkits/pandas.html'\n",
            "https://langchain.readthedocs.io/en/latest/modules/utils/examples/python.html\n",
            "https://langchain.readthedocs.io/en/latest/modules/indexes/chain_examples/summarize.html\n",
            "https://langchain.readthedocs.io/en/latest/types/summary_buffer.html\n",
            "404 for 'https://langchain.readthedocs.io/en/latest/types/summary_buffer.html'\n",
            "https://langchain.readthedocs.io/en/latest/modules/document_loaders/examples/telegram.html\n",
            "https://langchain.readthedocs.io/en/latest/types/buffer_window.html\n",
            "404 for 'https://langchain.readthedocs.io/en/latest/types/buffer_window.html'\n",
            "https://langchain.readthedocs.io/en/latest/modules/prompts/getting_started.html\n",
            "https://langchain.readthedocs.io/en/latest/tools.html\n",
            "404 for 'https://langchain.readthedocs.io/en/latest/tools.html'\n",
            "https://langchain.readthedocs.io/en/latest/modules/indexes/retriever_examples/chatgpt-plugin-retriever.html\n",
            "https://langchain.readthedocs.io/en/latest/agent_toolkits/json.html\n",
            "404 for 'https://langchain.readthedocs.io/en/latest/agent_toolkits/json.html'\n",
            "https://langchain.readthedocs.io/en/latest/implementations/mrkl.html\n",
            "404 for 'https://langchain.readthedocs.io/en/latest/implementations/mrkl.html'\n",
            "https://langchain.readthedocs.io/en/latest/examples/roam.html\n",
            "404 for 'https://langchain.readthedocs.io/en/latest/examples/roam.html'\n",
            "https://langchain.readthedocs.io/en/latest/modules/memory/getting_started.html\n",
            "https://langchain.readthedocs.io/en/latest/modules/chains/generic_how_to.html\n",
            "https://langchain.readthedocs.io/en/latest/generic/llm_chain.html\n",
            "404 for 'https://langchain.readthedocs.io/en/latest/generic/llm_chain.html'\n",
            "https://langchain.readthedocs.io/en/latest/generic/transformation.html\n",
            "404 for 'https://langchain.readthedocs.io/en/latest/generic/transformation.html'\n",
            "https://langchain.readthedocs.io/en/latest/modules/document_loaders/examples/image.html\n",
            "https://langchain.readthedocs.io/en/latest/modules/utils/examples/google_search.html\n",
            "https://langchain.readthedocs.io/en/latest/examples/CoNLL-U.html\n",
            "404 for 'https://langchain.readthedocs.io/en/latest/examples/CoNLL-U.html'\n",
            "https://langchain.readthedocs.io/en/latest/generic/sequential_chains.html\n",
            "404 for 'https://langchain.readthedocs.io/en/latest/generic/sequential_chains.html'\n",
            "https://langchain.readthedocs.io/en/latest/use_cases/model_laboratory.html\n",
            "https://langchain.readthedocs.io/en/latest/examples/googledrive.html\n",
            "404 for 'https://langchain.readthedocs.io/en/latest/examples/googledrive.html'\n",
            "https://langchain.readthedocs.io/en/latest/examples/notebook.html\n",
            "404 for 'https://langchain.readthedocs.io/en/latest/examples/notebook.html'\n",
            "https://langchain.readthedocs.io/en/latest/modules/chat/key_concepts.html\n",
            "https://langchain.readthedocs.io/en/latest/modules/document_loaders/examples/markdown.html\n",
            "https://langchain.readthedocs.io/en/latest/types/summary.html\n",
            "404 for 'https://langchain.readthedocs.io/en/latest/types/summary.html'\n",
            "https://langchain.readthedocs.io/en/latest/examples/google_search.html\n",
            "404 for 'https://langchain.readthedocs.io/en/latest/examples/google_search.html'\n",
            "https://langchain.readthedocs.io/en/latest/modules/chat/how_to_guides.html\n",
            "https://langchain.readthedocs.io/en/latest/modules/document_loaders/examples/airbyte_json.html\n",
            "https://langchain.readthedocs.io/en/latest/modules/llms/how_to_guides.html\n",
            "https://langchain.readthedocs.io/en/latest/streaming_llm.html\n",
            "404 for 'https://langchain.readthedocs.io/en/latest/streaming_llm.html'\n",
            "https://langchain.readthedocs.io/en/latest/modules/memory/types/summary.html\n",
            "https://langchain.readthedocs.io/en/latest/modules/chains/generic/transformation.html\n",
            "https://langchain.readthedocs.io/en/latest/examples/readthedocs_documentation.html\n",
            "404 for 'https://langchain.readthedocs.io/en/latest/examples/readthedocs_documentation.html'\n",
            "https://langchain.readthedocs.io/en/latest/modules/prompts/examples/prompt_serialization.html\n",
            "https://langchain.readthedocs.io/en/latest/examples/searx_search.html\n",
            "404 for 'https://langchain.readthedocs.io/en/latest/examples/searx_search.html'\n",
            "https://langchain.readthedocs.io/en/latest/modules/prompts/examples/custom_example_selector.html\n",
            "https://langchain.readthedocs.io/en/latest/tracing.html\n",
            "https://langchain.readthedocs.io/en/latest/modules/llms/integrations/cerebriumai_example.html\n",
            "https://langchain.readthedocs.io/en/latest/modules/chains/examples/llm_requests.html\n",
            "https://langchain.readthedocs.io/en/latest/modules/document_loaders/examples/web_base.html\n",
            "https://langchain.readthedocs.io/en/latest/modules/chains/generic/from_hub.html\n",
            "https://langchain.readthedocs.io/en/latest/examples/conversational_customization.html\n",
            "404 for 'https://langchain.readthedocs.io/en/latest/examples/conversational_customization.html'\n",
            "https://langchain.readthedocs.io/en/latest/modules/agents.html\n",
            "https://langchain.readthedocs.io/en/latest/agents/how_to_guides.html\n",
            "404 for 'https://langchain.readthedocs.io/en/latest/agents/how_to_guides.html'\n",
            "https://langchain.readthedocs.io/en/latest/agents/getting_started.html\n",
            "404 for 'https://langchain.readthedocs.io/en/latest/agents/getting_started.html'\n",
            "https://langchain.readthedocs.io/en/latest/use_cases/evaluation/agent_vectordb_sota_pg.html\n",
            "https://langchain.readthedocs.io/en/latest/modules/document_loaders/examples/s3_file.html\n",
            "https://langchain.readthedocs.io/en/latest/modules/llms/integrations.html\n",
            "https://langchain.readthedocs.io/en/latest/integrations/promptlayer_openai.html\n",
            "404 for 'https://langchain.readthedocs.io/en/latest/integrations/promptlayer_openai.html'\n",
            "https://langchain.readthedocs.io/en/latest/integrations/petals_example.html\n",
            "404 for 'https://langchain.readthedocs.io/en/latest/integrations/petals_example.html'\n",
            "https://langchain.readthedocs.io/en/latest/integrations/forefrontai_example.html\n",
            "404 for 'https://langchain.readthedocs.io/en/latest/integrations/forefrontai_example.html'\n",
            "https://langchain.readthedocs.io/en/latest/integrations/deepinfra_example.html\n",
            "404 for 'https://langchain.readthedocs.io/en/latest/integrations/deepinfra_example.html'\n",
            "https://langchain.readthedocs.io/en/latest/integrations/modal.html\n",
            "404 for 'https://langchain.readthedocs.io/en/latest/integrations/modal.html'\n",
            "https://langchain.readthedocs.io/en/latest/integrations/manifest.html\n",
            "404 for 'https://langchain.readthedocs.io/en/latest/integrations/manifest.html'\n",
            "https://langchain.readthedocs.io/en/latest/integrations/ai21.html\n",
            "404 for 'https://langchain.readthedocs.io/en/latest/integrations/ai21.html'\n",
            "https://langchain.readthedocs.io/en/latest/integrations/huggingface_hub.html\n",
            "404 for 'https://langchain.readthedocs.io/en/latest/integrations/huggingface_hub.html'\n",
            "https://langchain.readthedocs.io/en/latest/integrations/self_hosted_examples.html\n",
            "404 for 'https://langchain.readthedocs.io/en/latest/integrations/self_hosted_examples.html'\n",
            "https://langchain.readthedocs.io/en/latest/integrations/azure_openai_example.html\n",
            "404 for 'https://langchain.readthedocs.io/en/latest/integrations/azure_openai_example.html'\n",
            "https://langchain.readthedocs.io/en/latest/integrations/cerebriumai_example.html\n",
            "404 for 'https://langchain.readthedocs.io/en/latest/integrations/cerebriumai_example.html'\n",
            "https://langchain.readthedocs.io/en/latest/integrations/openai.html\n",
            "404 for 'https://langchain.readthedocs.io/en/latest/integrations/openai.html'\n",
            "https://langchain.readthedocs.io/en/latest/integrations/anthropic_example.html\n",
            "404 for 'https://langchain.readthedocs.io/en/latest/integrations/anthropic_example.html'\n",
            "https://langchain.readthedocs.io/en/latest/integrations/cohere.html\n",
            "404 for 'https://langchain.readthedocs.io/en/latest/integrations/cohere.html'\n",
            "https://langchain.readthedocs.io/en/latest/modules/agents/implementations/mrkl_chat.html\n",
            "https://langchain.readthedocs.io/en/latest/examples/few_shot_examples.html\n",
            "404 for 'https://langchain.readthedocs.io/en/latest/examples/few_shot_examples.html'\n",
            "https://langchain.readthedocs.io/en/latest/vectorstore_examples/atlas.html\n",
            "404 for 'https://langchain.readthedocs.io/en/latest/vectorstore_examples/atlas.html'\n",
            "https://langchain.readthedocs.io/en/latest/use_cases/evaluation/benchmarking_template.html\n",
            "https://langchain.readthedocs.io/en/latest/examples/custom_prompt_template.html\n",
            "404 for 'https://langchain.readthedocs.io/en/latest/examples/custom_prompt_template.html'\n",
            "https://langchain.readthedocs.io/en/latest/modules/utils/examples/wolfram_alpha.html\n",
            "https://langchain.readthedocs.io/en/latest/examples/gutenberg.html\n",
            "404 for 'https://langchain.readthedocs.io/en/latest/examples/gutenberg.html'\n",
            "https://langchain.readthedocs.io/en/latest/modules/llms/integrations/petals_example.html\n",
            "https://langchain.readthedocs.io/en/latest/modules/llms/integrations/cohere.html\n",
            "https://langchain.readthedocs.io/en/latest/modules/chains/utility_how_to.html\n",
            "https://langchain.readthedocs.io/en/latest/examples/pal.html\n",
            "404 for 'https://langchain.readthedocs.io/en/latest/examples/pal.html'\n",
            "https://langchain.readthedocs.io/en/latest/examples/sqlite.html\n",
            "404 for 'https://langchain.readthedocs.io/en/latest/examples/sqlite.html'\n",
            "https://langchain.readthedocs.io/en/latest/examples/llm_math.html\n",
            "404 for 'https://langchain.readthedocs.io/en/latest/examples/llm_math.html'\n",
            "https://langchain.readthedocs.io/en/latest/examples/llm_checker.html\n",
            "404 for 'https://langchain.readthedocs.io/en/latest/examples/llm_checker.html'\n",
            "https://langchain.readthedocs.io/en/latest/examples/llm_requests.html\n",
            "404 for 'https://langchain.readthedocs.io/en/latest/examples/llm_requests.html'\n",
            "https://langchain.readthedocs.io/en/latest/examples/moderation.html\n",
            "404 for 'https://langchain.readthedocs.io/en/latest/examples/moderation.html'\n",
            "https://langchain.readthedocs.io/en/latest/modules/document_loaders/examples/powerpoint.html\n",
            "https://langchain.readthedocs.io/en/latest/modules/indexes/examples/vectorstores.html\n",
            "https://langchain.readthedocs.io/en/latest/modules/llms/integrations/azure_openai_example.html\n",
            "https://langchain.readthedocs.io/en/latest/vectorstore_examples/faiss.html\n",
            "404 for 'https://langchain.readthedocs.io/en/latest/vectorstore_examples/faiss.html'\n",
            "https://langchain.readthedocs.io/en/latest/modules/llms/examples/token_usage_tracking.html\n",
            "https://langchain.readthedocs.io/en/latest/modules/utils/examples/bash.html\n",
            "https://langchain.readthedocs.io/en/latest/modules/utils/examples/searx_search.html\n",
            "https://langchain.readthedocs.io/en/latest/modules/utils/examples/google_serper.html\n",
            "https://langchain.readthedocs.io/en/latest/modules/memory/types/buffer.html\n",
            "https://langchain.readthedocs.io/en/latest/use_cases/evaluation.html\n",
            "https://langchain.readthedocs.io/en/latest/evaluation/agent_benchmarking.html\n",
            "404 for 'https://langchain.readthedocs.io/en/latest/evaluation/agent_benchmarking.html'\n",
            "https://langchain.readthedocs.io/en/latest/evaluation/agent_vectordb_sota_pg.html\n",
            "404 for 'https://langchain.readthedocs.io/en/latest/evaluation/agent_vectordb_sota_pg.html'\n",
            "https://langchain.readthedocs.io/en/latest/evaluation/qa_generation.html\n",
            "404 for 'https://langchain.readthedocs.io/en/latest/evaluation/qa_generation.html'\n",
            "https://langchain.readthedocs.io/en/latest/evaluation/benchmarking_template.html\n",
            "404 for 'https://langchain.readthedocs.io/en/latest/evaluation/benchmarking_template.html'\n",
            "https://langchain.readthedocs.io/en/latest/evaluation/question_answering.html\n",
            "404 for 'https://langchain.readthedocs.io/en/latest/evaluation/question_answering.html'\n",
            "https://langchain.readthedocs.io/en/latest/evaluation/qa_benchmarking_pg.html\n",
            "404 for 'https://langchain.readthedocs.io/en/latest/evaluation/qa_benchmarking_pg.html'\n",
            "https://langchain.readthedocs.io/en/latest/evaluation/qa_benchmarking_sota.html\n",
            "404 for 'https://langchain.readthedocs.io/en/latest/evaluation/qa_benchmarking_sota.html'\n",
            "https://langchain.readthedocs.io/en/latest/evaluation/sql_qa_benchmarking_chinook.html\n",
            "404 for 'https://langchain.readthedocs.io/en/latest/evaluation/sql_qa_benchmarking_chinook.html'\n",
            "https://langchain.readthedocs.io/en/latest/evaluation/data_augmented_question_answering.html\n",
            "404 for 'https://langchain.readthedocs.io/en/latest/evaluation/data_augmented_question_answering.html'\n",
            "https://langchain.readthedocs.io/en/latest/agent_toolkits/vectorstore.html\n",
            "404 for 'https://langchain.readthedocs.io/en/latest/agent_toolkits/vectorstore.html'\n",
            "https://langchain.readthedocs.io/en/latest/examples/gitbook.html\n",
            "404 for 'https://langchain.readthedocs.io/en/latest/examples/gitbook.html'\n",
            "https://langchain.readthedocs.io/en/latest/use_cases/chatbots.html\n",
            "https://langchain.readthedocs.io/en/latest/modules/document_loaders/examples/csv.html\n",
            "https://langchain.readthedocs.io/en/latest/modules/document_loaders/examples/youtube.html\n",
            "https://langchain.readthedocs.io/en/latest/examples/custom_agent.html\n",
            "404 for 'https://langchain.readthedocs.io/en/latest/examples/custom_agent.html'\n",
            "https://langchain.readthedocs.io/en/latest/modules/llms/integrations/deepinfra_example.html\n",
            "https://langchain.readthedocs.io/en/latest/examples/imsdb.html\n",
            "404 for 'https://langchain.readthedocs.io/en/latest/examples/imsdb.html'\n",
            "https://langchain.readthedocs.io/en/latest/modules/memory/types/summary_buffer.html\n",
            "https://langchain.readthedocs.io/en/latest/integrations/gooseai_example.html\n",
            "404 for 'https://langchain.readthedocs.io/en/latest/integrations/gooseai_example.html'\n",
            "https://langchain.readthedocs.io/en/latest/modules/llms/integrations/promptlayer_openai.html\n",
            "https://langchain.readthedocs.io/en/latest/utils/how_to_guides.html\n",
            "404 for 'https://langchain.readthedocs.io/en/latest/utils/how_to_guides.html'\n",
            "https://langchain.readthedocs.io/en/latest/modules/memory.html\n",
            "https://langchain.readthedocs.io/en/latest/memory/getting_started.html\n",
            "404 for 'https://langchain.readthedocs.io/en/latest/memory/getting_started.html'\n",
            "https://langchain.readthedocs.io/en/latest/modules/indexes/key_concepts.html\n",
            "https://langchain.readthedocs.io/en/latest/memory/how_to_guides.html\n",
            "404 for 'https://langchain.readthedocs.io/en/latest/memory/how_to_guides.html'\n",
            "https://langchain.readthedocs.io/en/latest/use_cases/extraction.html\n",
            "https://langchain.readthedocs.io/en/latest/examples/llm_bash.html\n",
            "404 for 'https://langchain.readthedocs.io/en/latest/examples/llm_bash.html'\n",
            "https://langchain.readthedocs.io/en/latest/modules/document_loaders.html\n",
            "https://langchain.readthedocs.io/en/latest/document_loaders/key_concepts.html\n",
            "404 for 'https://langchain.readthedocs.io/en/latest/document_loaders/key_concepts.html'\n",
            "https://langchain.readthedocs.io/en/latest/use_cases/evaluation/sql_qa_benchmarking_chinook.html\n",
            "https://langchain.readthedocs.io/en/latest/modules/llms/examples/custom_llm.html\n",
            "https://langchain.readthedocs.io/en/latest/glossary.html\n",
            "https://langchain.readthedocs.io/en/latest/document_loaders/how_to_guides.html\n",
            "404 for 'https://langchain.readthedocs.io/en/latest/document_loaders/how_to_guides.html'\n",
            "https://langchain.readthedocs.io/en/latest/memory/key_concepts.html\n",
            "404 for 'https://langchain.readthedocs.io/en/latest/memory/key_concepts.html'\n",
            "https://langchain.readthedocs.io/en/latest/implementations/react.html\n",
            "404 for 'https://langchain.readthedocs.io/en/latest/implementations/react.html'\n",
            "https://langchain.readthedocs.io/en/latest/modules/agents/examples/chat_conversation_agent.html\n",
            "https://langchain.readthedocs.io/en/latest/modules/indexes/chain_examples/vector_db_qa_with_sources.html\n",
            "https://langchain.readthedocs.io/en/latest/modules/indexes.html\n",
            "https://langchain.readthedocs.io/en/latest/indexes/how_to_guides.html\n",
            "404 for 'https://langchain.readthedocs.io/en/latest/indexes/how_to_guides.html'\n",
            "https://langchain.readthedocs.io/en/latest/indexes/key_concepts.html\n",
            "404 for 'https://langchain.readthedocs.io/en/latest/indexes/key_concepts.html'\n",
            "https://langchain.readthedocs.io/en/latest/indexes/getting_started.html\n",
            "404 for 'https://langchain.readthedocs.io/en/latest/indexes/getting_started.html'\n",
            "https://langchain.readthedocs.io/en/latest/modules/chat/examples/vector_db_qa_with_sources.html\n",
            "https://langchain.readthedocs.io/en/latest/reference.html\n",
            "https://langchain.readthedocs.io/en/latest/modules/document_loaders/examples/college_confidential.html\n",
            "https://langchain.readthedocs.io/en/latest/modules/indexes/chain_examples/analyze_document.html\n",
            "https://langchain.readthedocs.io/en/latest/modules/memory/examples/multiple_memory.html\n",
            "https://langchain.readthedocs.io/en/latest/examples/custom_example_selector.html\n",
            "404 for 'https://langchain.readthedocs.io/en/latest/examples/custom_example_selector.html'\n",
            "https://langchain.readthedocs.io/en/latest/agents/key_concepts.html\n",
            "404 for 'https://langchain.readthedocs.io/en/latest/agents/key_concepts.html'\n",
            "https://langchain.readthedocs.io/en/latest/chain_examples/summarize.html\n",
            "404 for 'https://langchain.readthedocs.io/en/latest/chain_examples/summarize.html'\n",
            "https://langchain.readthedocs.io/en/latest/implementations/self_ask_with_search.html\n",
            "404 for 'https://langchain.readthedocs.io/en/latest/implementations/self_ask_with_search.html'\n",
            "https://langchain.readthedocs.io/en/latest/modules/agents/examples/intermediate_steps.html\n",
            "https://langchain.readthedocs.io/en/latest/integrations/writer.html\n",
            "404 for 'https://langchain.readthedocs.io/en/latest/integrations/writer.html'\n",
            "https://langchain.readthedocs.io/en/latest/modules/document_loaders/examples/pdf.html\n",
            "https://langchain.readthedocs.io/en/latest/async_llm.html\n",
            "404 for 'https://langchain.readthedocs.io/en/latest/async_llm.html'\n",
            "https://langchain.readthedocs.io/en/latest/getting_started/getting_started.html\n",
            "https://langchain.readthedocs.io/en/latest/modules/agents/implementations/mrkl.html\n",
            "https://langchain.readthedocs.io/en/latest/chain_examples/analyze_document.html\n",
            "404 for 'https://langchain.readthedocs.io/en/latest/chain_examples/analyze_document.html'\n",
            "https://langchain.readthedocs.io/en/latest/integrations/banana.html\n",
            "404 for 'https://langchain.readthedocs.io/en/latest/integrations/banana.html'\n",
            "https://langchain.readthedocs.io/en/latest/integrations/stochasticai.html\n",
            "404 for 'https://langchain.readthedocs.io/en/latest/integrations/stochasticai.html'\n",
            "https://langchain.readthedocs.io/en/latest/modules/document_loaders/examples/facebook_chat.html\n",
            "https://langchain.readthedocs.io/en/latest/modules/chat.html\n",
            "https://langchain.readthedocs.io/en/latest/chat/key_concepts.html\n",
            "404 for 'https://langchain.readthedocs.io/en/latest/chat/key_concepts.html'\n",
            "https://langchain.readthedocs.io/en/latest/modules/agents/agent_toolkits/sql_database.html\n",
            "https://langchain.readthedocs.io/en/latest/modules/agents/agent_toolkits/json.html\n",
            "https://langchain.readthedocs.io/en/latest/modules/indexes/vectorstore_examples/faiss.html\n",
            "https://langchain.readthedocs.io/en/latest/modules/llms.html\n",
            "https://langchain.readthedocs.io/en/latest/llms/how_to_guides.html\n",
            "404 for 'https://langchain.readthedocs.io/en/latest/llms/how_to_guides.html'\n",
            "https://langchain.readthedocs.io/en/latest/llms/getting_started.html\n",
            "404 for 'https://langchain.readthedocs.io/en/latest/llms/getting_started.html'\n",
            "https://langchain.readthedocs.io/en/latest/llms/key_concepts.html\n",
            "404 for 'https://langchain.readthedocs.io/en/latest/llms/key_concepts.html'\n",
            "https://langchain.readthedocs.io/en/latest/modules/agents/examples/sharedmemory_for_tools.html\n",
            "https://langchain.readthedocs.io/en/latest/examples/csv.html\n",
            "404 for 'https://langchain.readthedocs.io/en/latest/examples/csv.html'\n",
            "https://langchain.readthedocs.io/en/latest/examples/partial.html\n",
            "404 for 'https://langchain.readthedocs.io/en/latest/examples/partial.html'\n",
            "https://langchain.readthedocs.io/en/latest/agent_toolkits/csv.html\n",
            "404 for 'https://langchain.readthedocs.io/en/latest/agent_toolkits/csv.html'\n",
            "https://langchain.readthedocs.io/en/latest/modules/chat/examples/few_shot_examples.html\n",
            "https://langchain.readthedocs.io/en/latest/modules/indexes/vectorstore_examples/deeplake.html\n",
            "https://langchain.readthedocs.io/en/latest/modules/llms/integrations/gooseai_example.html\n",
            "https://langchain.readthedocs.io/en/latest/examples/word_document.html\n",
            "404 for 'https://langchain.readthedocs.io/en/latest/examples/word_document.html'\n",
            "https://langchain.readthedocs.io/en/latest/use_cases/evaluation/question_answering.html\n",
            "https://langchain.readthedocs.io/en/latest/retriever_examples/chatgpt-plugin-retriever.html\n",
            "404 for 'https://langchain.readthedocs.io/en/latest/retriever_examples/chatgpt-plugin-retriever.html'\n",
            "https://langchain.readthedocs.io/en/latest/evaluation/huggingface_datasets.html\n",
            "404 for 'https://langchain.readthedocs.io/en/latest/evaluation/huggingface_datasets.html'\n",
            "https://langchain.readthedocs.io/en/latest/modules/indexes/chain_examples/vector_db_text_generation.html\n",
            "https://langchain.readthedocs.io/en/latest/prompts/how_to_guides.html\n",
            "404 for 'https://langchain.readthedocs.io/en/latest/prompts/how_to_guides.html'\n",
            "https://langchain.readthedocs.io/en/latest/examples/fake_llm.html\n",
            "404 for 'https://langchain.readthedocs.io/en/latest/examples/fake_llm.html'\n",
            "https://langchain.readthedocs.io/en/latest/integrations.html\n",
            "404 for 'https://langchain.readthedocs.io/en/latest/integrations.html'\n",
            "https://langchain.readthedocs.io/en/latest/modules/document_loaders/examples/hn.html\n",
            "https://langchain.readthedocs.io/en/latest/chat/how_to_guides.html\n",
            "404 for 'https://langchain.readthedocs.io/en/latest/chat/how_to_guides.html'\n",
            "https://langchain.readthedocs.io/en/latest/modules/document_loaders/examples/unstructured_file.html\n",
            "https://langchain.readthedocs.io/en/latest/examples/api.html\n",
            "404 for 'https://langchain.readthedocs.io/en/latest/examples/api.html'\n",
            "https://langchain.readthedocs.io/en/latest/examples/email.html\n",
            "404 for 'https://langchain.readthedocs.io/en/latest/examples/email.html'\n",
            "https://langchain.readthedocs.io/en/latest/examples/web_base.html\n",
            "404 for 'https://langchain.readthedocs.io/en/latest/examples/web_base.html'\n",
            "https://langchain.readthedocs.io/en/latest/modules/document_loaders/examples/figma.html\n",
            "https://langchain.readthedocs.io/en/latest/modules/llms/examples/fake_llm.html\n",
            "https://langchain.readthedocs.io/en/latest/modules/agents/examples/load_from_hub.html\n",
            "https://langchain.readthedocs.io/en/latest/modules/document_loaders/examples/roam.html\n",
            "https://langchain.readthedocs.io/en/latest/chat/getting_started.html\n",
            "404 for 'https://langchain.readthedocs.io/en/latest/chat/getting_started.html'\n",
            "https://langchain.readthedocs.io/en/latest/modules/utils/examples/ifttt.html\n",
            "https://langchain.readthedocs.io/en/latest/modules/llms/integrations/huggingface_hub.html\n",
            "Complete\n"
          ]
        }
      ],
      "source": [
        "links = [\"https://langchain.readthedocs.io/en/latest/\"]\n",
        "scraped = set()\n",
        "data = []\n",
        "\n",
        "while True:\n",
        "    if len(links) == 0:\n",
        "        print(\"Complete\")\n",
        "        break\n",
        "    url = links[0]\n",
        "    print(url)\n",
        "    res = scrape(url)\n",
        "    scraped.add(url)\n",
        "    if res is not None:\n",
        "        page_content, local_links = res\n",
        "        data.append(page_content)\n",
        "        # add new links to links list\n",
        "        links.extend(local_links)\n",
        "        # remove duplicates\n",
        "        links = list(set(links))\n",
        "    # remove links already scraped\n",
        "    links = [link for link in links if link not in scraped]"
      ]
    },
    {
      "cell_type": "code",
      "execution_count": 10,
      "metadata": {
        "colab": {
          "base_uri": "https://localhost:8080/"
        },
        "id": "F0tUQRxtzqF0",
        "outputId": "0a463146-9e46-4636-a9c3-92991e3e7953"
      },
      "outputs": [
        {
          "output_type": "execute_result",
          "data": {
            "text/plain": [
              "{'url': 'https://langchain.readthedocs.io/en/latest/',\n",
              " 'text': '.rst .pdf Welcome to LangChain Contents Getting Started Modules Use Cases Reference Docs LangChain Ecosystem Additional Resources Welcome to LangChain# Large language models (LLMs) are emerging as a transformative technology, enabling developers to build applications that they previously could not. But using these LLMs in isolation is often not enough to create a truly powerful app - the real power comes when you are able to combine them with other sources of computation or knowledge. This library is aimed at assisting in the development of those types of applications. Common examples of these types of applications include: ❓ Question Answering over specific documents Documentation End-to-end Example: Question Answering over Notion Database 💬 Chatbots Documentation End-to-end Example: Chat-LangChain 🤖 Agents Documentation End-to-end Example: GPT+WolframAlpha Getting Started# Checkout the below guide for a walkthrough of how to get started using LangChain to create an Language Model application. Getting Started Documentation Modules# There are several main modules that LangChain provides support for. For each module we provide some examples to get started, how-to guides, reference docs, and conceptual guides. These modules are, in increasing order of complexity: Prompts: This includes prompt management, prompt optimization, and prompt serialization. LLMs: This includes a generic interface for all LLMs, and common utilities for working with LLMs. Document Loaders: This includes a standard interface for loading documents, as well as specific integrations to all types of text data sources. Utils: Language models are often more powerful when interacting with other sources of knowledge or computation. This can include Python REPLs, embeddings, search engines, and more. LangChain provides a large collection of common utils to use in your application. Chains: Chains go beyond just a single LLM call, and are sequences of calls (whether to an LLM or a different utility). LangChain provides a standard interface for chains, lots of integrations with other tools, and end-to-end chains for common applications. Indexes: Language models are often more powerful when combined with your own text data - this module covers best practices for doing exactly that. Agents: Agents involve an LLM making decisions about which Actions to take, taking that Action, seeing an Observation, and repeating that until done. LangChain provides a standard interface for agents, a selection of agents to choose from, and examples of end to end agents. Memory: Memory is the concept of persisting state between calls of a chain/agent. LangChain provides a standard interface for memory, a collection of memory implementations, and examples of chains/agents that use memory. Chat: Chat models are a variation on Language Models that expose a different API - rather than working with raw text, they work with messages. LangChain provides a standard interface for working with them and doing all the same things as above. Use Cases# The above modules can be used in a variety of ways. LangChain also provides guidance and assistance in this. Below are some of the common use cases LangChain supports. Agents: Agents are systems that use a language model to interact with other tools. These can be used to do more grounded question/answering, interact with APIs, or even take actions. Chatbots: Since language models are good at producing text, that makes them ideal for creating chatbots. Data Augmented Generation: Data Augmented Generation involves specific types of chains that first interact with an external datasource to fetch data to use in the generation step. Examples of this include summarization of long pieces of text and question/answering over specific data sources. Question Answering: Answering questions over specific documents, only utilizing the information in those documents to construct an answer. A type of Data Augmented Generation. Summarization: Summarizing longer documents into shorter, more condensed chunks of information. A type of Data Augmented Generation. Querying Tabular Data: If you want to understand how to use LLMs to query data that is stored in a tabular format (csvs, SQL, dataframes, etc) you should read this page. Evaluation: Generative models are notoriously hard to evaluate with traditional metrics. One new way of evaluating them is using language models themselves to do the evaluation. LangChain provides some prompts/chains for assisting in this. Generate similar examples: Generating similar examples to a given input. This is a common use case for many applications, and LangChain provides some prompts/chains for assisting in this. Compare models: Experimenting with different prompts, models, and chains is a big part of developing the best possible application. The ModelLaboratory makes it easy to do so. Reference Docs# All of LangChain’s reference documentation, in one place. Full documentation on all methods, classes, installation methods, and integration setups for LangChain. Reference Documentation LangChain Ecosystem# Guides for how other companies/products can be used with LangChain LangChain Ecosystem Additional Resources# Additional collection of resources we think may be useful as you develop your application! LangChainHub: The LangChainHub is a place to share and explore other prompts, chains, and agents. Glossary: A glossary of all related terms, papers, methods, etc. Whether implemented in LangChain or not! Gallery: A collection of our favorite projects that use LangChain. Useful for finding inspiration or seeing how things were done in other applications. Deployments: A collection of instructions, code snippets, and template repositories for deploying LangChain apps. Discord: Join us on our Discord to discuss all things LangChain! Tracing: A guide on using tracing in LangChain to visualize the execution of chains and agents. Production Support: As you move your LangChains into production, we’d love to offer more comprehensive support. Please fill out this form and we’ll set up a dedicated support Slack channel. next Quickstart Guide Contents Getting Started Modules Use Cases Reference Docs LangChain Ecosystem Additional Resources By Harrison Chase © Copyright 2023, Harrison Chase. Last updated on Mar 24, 2023.'}"
            ]
          },
          "metadata": {},
          "execution_count": 10
        }
      ],
      "source": [
        "data[0]"
      ]
    },
    {
      "cell_type": "markdown",
      "metadata": {
        "id": "ouY4rcx7z2oa"
      },
      "source": [
        "It's pretty ugly but it's good enough for now. Let's see how we can process all of these. We will chunk everything into ~1000 token chunks, we can do this easily with `langchain` and `tiktoken`:"
      ]
    },
    {
      "cell_type": "code",
      "execution_count": 11,
      "metadata": {
        "id": "Rb7KxUqYzsuV"
      },
      "outputs": [],
      "source": [
        "import tiktoken\n",
        "\n",
        "tokenizer = tiktoken.get_encoding('p50k_base')\n",
        "\n",
        "# create the length function\n",
        "def tiktoken_len(text):\n",
        "    tokens = tokenizer.encode(\n",
        "        text,\n",
        "        disallowed_special=()\n",
        "    )\n",
        "    return len(tokens)"
      ]
    },
    {
      "cell_type": "code",
      "execution_count": 12,
      "metadata": {
        "id": "OKO8e3Dp0dQS"
      },
      "outputs": [],
      "source": [
        "from langchain.text_splitter import RecursiveCharacterTextSplitter\n",
        "\n",
        "text_splitter = RecursiveCharacterTextSplitter(\n",
        "    chunk_size=500,\n",
        "    chunk_overlap=20,\n",
        "    length_function=tiktoken_len,\n",
        "    separators=[\"\\n\\n\", \"\\n\", \" \", \"\"]\n",
        ")"
      ]
    },
    {
      "cell_type": "markdown",
      "metadata": {
        "id": "bLdvW8eq06Zd"
      },
      "source": [
        "Process the `data` into more chunks using this approach."
      ]
    },
    {
      "cell_type": "code",
      "execution_count": 13,
      "metadata": {
        "colab": {
          "base_uri": "https://localhost:8080/",
          "height": 49,
          "referenced_widgets": [
            "428392d5fd3542a187af27ae06120688",
            "d193778e1b634675bfcfdfa4aef17096",
            "53ef17b0aa794f33aa91ef120e38f8b9",
            "7555c072b542435abc85e59177753fc4",
            "a2f5c857fc1f4b3a9a33066803a3e02a",
            "007ac0dfd4314eef8f287c67758ae4f0",
            "226c7eee0706448ab5b23b4b2b999231",
            "6769c482744345e6ac30155f1b0372f3",
            "4af1f4a2cce2449a87ac6203dd6b9553",
            "03be4a86d6784d75bf5cc5a50ef1daba",
            "d7a996e60fbb4bb89447f55aba1260b6"
          ]
        },
        "id": "uOdPyiAQ0uWs",
        "outputId": "ef045cac-5f38-481a-c612-1b427a71823b"
      },
      "outputs": [
        {
          "output_type": "display_data",
          "data": {
            "text/plain": [
              "  0%|          | 0/241 [00:00<?, ?it/s]"
            ],
            "application/vnd.jupyter.widget-view+json": {
              "version_major": 2,
              "version_minor": 0,
              "model_id": "428392d5fd3542a187af27ae06120688"
            }
          },
          "metadata": {}
        }
      ],
      "source": [
        "from uuid import uuid4\n",
        "from tqdm.auto import tqdm\n",
        "\n",
        "chunks = []\n",
        "\n",
        "for idx, record in enumerate(tqdm(data)):\n",
        "    texts = text_splitter.split_text(record['text'])\n",
        "    chunks.extend([{\n",
        "        'id': str(uuid4()),\n",
        "        'text': texts[i],\n",
        "        'chunk': i,\n",
        "        'url': record['url']\n",
        "    } for i in range(len(texts))])"
      ]
    },
    {
      "cell_type": "markdown",
      "metadata": {
        "id": "JegURaAg2PuN"
      },
      "source": [
        "Our chunks are ready so now we move onto embedding and indexing everything."
      ]
    },
    {
      "cell_type": "markdown",
      "metadata": {
        "id": "zGIZbQqJ2WBh"
      },
      "source": [
        "## Initialize Embedding Model\n",
        "\n",
        "We use `text-embedding-ada-002` as the embedding model. We can embed text like so:"
      ]
    },
    {
      "cell_type": "code",
      "execution_count": 14,
      "metadata": {
        "id": "kteZ69Z5M55S"
      },
      "outputs": [],
      "source": [
        "import openai\n",
        "\n",
        "# initialize openai API key\n",
        "openai.api_key = json_data[\"OPENAI_API_KEY\"]  #platform.openai.com\n",
        "\n",
        "embed_model = \"text-embedding-ada-002\"\n",
        "\n",
        "res = openai.Embedding.create(\n",
        "    input=[\n",
        "        \"Sample document text goes here\",\n",
        "        \"there will be several phrases in each batch\"\n",
        "    ], engine=embed_model\n",
        ")"
      ]
    },
    {
      "cell_type": "markdown",
      "metadata": {
        "id": "aNZ7IWekNLbu"
      },
      "source": [
        "In the response `res` we will find a JSON-like object containing our new embeddings within the `'data'` field."
      ]
    },
    {
      "cell_type": "code",
      "execution_count": 15,
      "metadata": {
        "colab": {
          "base_uri": "https://localhost:8080/"
        },
        "id": "esagZj6iNLPZ",
        "outputId": "2d764636-9025-4dbb-b4c3-53bd6267f0bf"
      },
      "outputs": [
        {
          "output_type": "execute_result",
          "data": {
            "text/plain": [
              "dict_keys(['object', 'data', 'model', 'usage'])"
            ]
          },
          "metadata": {},
          "execution_count": 15
        }
      ],
      "source": [
        "res.keys()"
      ]
    },
    {
      "cell_type": "markdown",
      "metadata": {
        "id": "zStnHFpkNVIU"
      },
      "source": [
        "Inside `'data'` we will find two records, one for each of the two sentences we just embedded. Each vector embedding contains `1536` dimensions (the output dimensionality of the `text-embedding-ada-002` model."
      ]
    },
    {
      "cell_type": "code",
      "execution_count": 16,
      "metadata": {
        "colab": {
          "base_uri": "https://localhost:8080/"
        },
        "id": "uVoP9VcINWAC",
        "outputId": "03bdd174-dc2f-46a9-c0e0-4bd2e063fd06"
      },
      "outputs": [
        {
          "output_type": "execute_result",
          "data": {
            "text/plain": [
              "2"
            ]
          },
          "metadata": {},
          "execution_count": 16
        }
      ],
      "source": [
        "len(res['data'])"
      ]
    },
    {
      "cell_type": "code",
      "execution_count": 17,
      "metadata": {
        "colab": {
          "base_uri": "https://localhost:8080/"
        },
        "id": "s-zraDCjNeC6",
        "outputId": "3baf48d3-d2ec-42d6-8a67-0152dc9dbaf6"
      },
      "outputs": [
        {
          "output_type": "execute_result",
          "data": {
            "text/plain": [
              "(1536, 1536)"
            ]
          },
          "metadata": {},
          "execution_count": 17
        }
      ],
      "source": [
        "len(res['data'][0]['embedding']), len(res['data'][1]['embedding'])"
      ]
    },
    {
      "cell_type": "markdown",
      "metadata": {
        "id": "XPd41MjANhmp"
      },
      "source": [
        "We will apply this same embedding logic to the langchain docs dataset we've just scraped. But before doing so we must create a place to store the embeddings."
      ]
    },
    {
      "cell_type": "markdown",
      "metadata": {
        "id": "WPi4MZvMNvUH"
      },
      "source": [
        "## Initializing the Index"
      ]
    },
    {
      "cell_type": "markdown",
      "metadata": {
        "id": "H5RRQArrN2lN"
      },
      "source": [
        "Now we need a place to store these embeddings and enable a efficient vector search through them all. To do that we use Pinecone, we can get a [free API key](https://app.pinecone.io/) and enter it below where we will initialize our connection to Pinecone and create a new index."
      ]
    },
    {
      "cell_type": "code",
      "execution_count": 19,
      "metadata": {
        "colab": {
          "base_uri": "https://localhost:8080/"
        },
        "id": "EO8sbJFZNyIZ",
        "outputId": "88f1e831-632c-41f3-9138-d3058676614e"
      },
      "outputs": [
        {
          "output_type": "execute_result",
          "data": {
            "text/plain": [
              "{'dimension': 1536,\n",
              " 'index_fullness': 0.0,\n",
              " 'namespaces': {'': {'vector_count': 1194}},\n",
              " 'total_vector_count': 1194}"
            ]
          },
          "metadata": {},
          "execution_count": 19
        }
      ],
      "source": [
        "import pinecone\n",
        "\n",
        "index_name = 'gpt-4-langchain-docs'\n",
        "\n",
        "# initialize connection to pinecone\n",
        "pinecone.init(\n",
        "    api_key=json_data[\"PINE_API_KEY\"],  # app.pinecone.io (console)\n",
        "    environment= json_data[\"PINE_ENV_KEY\"]  # next to API key in console\n",
        ")\n",
        "\n",
        "# check if index already exists (it shouldn't if this is first time)\n",
        "if index_name not in pinecone.list_indexes():\n",
        "    # if does not exist, create index\n",
        "    pinecone.create_index(\n",
        "        index_name,\n",
        "        dimension=len(res['data'][0]['embedding']),\n",
        "        metric='dotproduct'\n",
        "    )\n",
        "# connect to index\n",
        "index = pinecone.GRPCIndex(index_name)\n",
        "# view index stats\n",
        "index.describe_index_stats()"
      ]
    },
    {
      "cell_type": "markdown",
      "metadata": {
        "id": "ezSTzN2rPa2o"
      },
      "source": [
        "We can see the index is currently empty with a `total_vector_count` of `0`. We can begin populating it with OpenAI `text-embedding-ada-002` built embeddings like so:"
      ]
    },
    {
      "cell_type": "code",
      "execution_count": 20,
      "metadata": {
        "colab": {
          "base_uri": "https://localhost:8080/",
          "height": 49,
          "referenced_widgets": [
            "6ba89c17ace64e5698318308d355d9d5",
            "d372ff6f160446f080dffbee5b771cba",
            "1e73ff7b12b541ab8f84ed9d66c51b3e",
            "07c2a0f948ea40b984b857fb62c13d05",
            "40426d5f9b394fbcb5c02164ade90d8d",
            "fe4c3aee82304ddabe65a1ede7c3d0be",
            "d4b71b5d94114ed5824ccf26d73e297f",
            "54ef9af034c44294827f400c75372c50",
            "cb6c37041fdf4acd863a9430e5288374",
            "6570505c037f48f187344b1223a85a6a",
            "6c719f94915a47edabac3eacf0f3a6ca"
          ]
        },
        "id": "iZbFbulAPeop",
        "outputId": "715009b6-f34d-4f24-80d6-d0d5dc8c93d7"
      },
      "outputs": [
        {
          "output_type": "display_data",
          "data": {
            "text/plain": [
              "  0%|          | 0/12 [00:00<?, ?it/s]"
            ],
            "application/vnd.jupyter.widget-view+json": {
              "version_major": 2,
              "version_minor": 0,
              "model_id": "6ba89c17ace64e5698318308d355d9d5"
            }
          },
          "metadata": {}
        }
      ],
      "source": [
        "from tqdm.auto import tqdm\n",
        "import datetime\n",
        "from time import sleep\n",
        "\n",
        "batch_size = 100  # how many embeddings we create and insert at once\n",
        "\n",
        "for i in tqdm(range(0, len(chunks), batch_size)):\n",
        "    # find end of batch\n",
        "    i_end = min(len(chunks), i+batch_size)\n",
        "    meta_batch = chunks[i:i_end]\n",
        "    # get ids\n",
        "    ids_batch = [x['id'] for x in meta_batch]\n",
        "    # get texts to encode\n",
        "    texts = [x['text'] for x in meta_batch]\n",
        "    # create embeddings (try-except added to avoid RateLimitError)\n",
        "    try:\n",
        "        res = openai.Embedding.create(input=texts, engine=embed_model)\n",
        "    except:\n",
        "        done = False\n",
        "        while not done:\n",
        "            sleep(5)\n",
        "            try:\n",
        "                res = openai.Embedding.create(input=texts, engine=embed_model)\n",
        "                done = True\n",
        "            except:\n",
        "                pass\n",
        "    embeds = [record['embedding'] for record in res['data']]\n",
        "    # cleanup metadata\n",
        "    meta_batch = [{\n",
        "        'text': x['text'],\n",
        "        'chunk': x['chunk'],\n",
        "        'url': x['url']\n",
        "    } for x in meta_batch]\n",
        "    to_upsert = list(zip(ids_batch, embeds, meta_batch))\n",
        "    # upsert to Pinecone\n",
        "    index.upsert(vectors=to_upsert)"
      ]
    },
    {
      "cell_type": "markdown",
      "metadata": {
        "id": "YttJOrEtQIF9"
      },
      "source": [
        "Now we've added all of our langchain docs to the index. With that we can move on to retrieval and then answer generation using GPT-4."
      ]
    },
    {
      "cell_type": "markdown",
      "metadata": {
        "id": "FumVmMRlQQ7w"
      },
      "source": [
        "## Retrieval"
      ]
    },
    {
      "cell_type": "markdown",
      "metadata": {
        "id": "nLRODeL-QTJ9"
      },
      "source": [
        "To search through our documents we first need to create a query vector `xq`. Using `xq` we will retrieve the most relevant chunks from the LangChain docs, like so:"
      ]
    },
    {
      "cell_type": "code",
      "execution_count": 21,
      "metadata": {
        "id": "FMUPdX9cQQYC"
      },
      "outputs": [],
      "source": [
        "query = \"how do I use the LLMChain in LangChain?\"\n",
        "\n",
        "res = openai.Embedding.create(\n",
        "    input=[query],\n",
        "    engine=embed_model\n",
        ")\n",
        "\n",
        "# retrieve from Pinecone\n",
        "xq = res['data'][0]['embedding']\n",
        "\n",
        "# get relevant contexts (including the questions)\n",
        "res = index.query(xq, top_k=5, include_metadata=True)"
      ]
    },
    {
      "cell_type": "code",
      "execution_count": 20,
      "metadata": {
        "colab": {
          "base_uri": "https://localhost:8080/"
        },
        "id": "zl9SrFPkQjg-",
        "outputId": "ace32074-a07c-4fb7-81b1-1476e1f54ef3"
      },
      "outputs": [
        {
          "output_type": "execute_result",
          "data": {
            "text/plain": [
              "{'matches': [{'id': '19d5cc35-91f0-4023-a6f3-5f11feaf2e7f',\n",
              "              'metadata': {'chunk': 0.0,\n",
              "                           'text': '.rst .pdf Chains Chains# Using an LLM in '\n",
              "                                   'isolation is fine for some simple '\n",
              "                                   'applications, but many more complex ones '\n",
              "                                   'require chaining LLMs - either with each '\n",
              "                                   'other or with other experts. LangChain '\n",
              "                                   'provides a standard interface for Chains, '\n",
              "                                   'as well as some common implementations of '\n",
              "                                   'chains for ease of use. The following '\n",
              "                                   'sections of documentation are provided: '\n",
              "                                   'Getting Started: A getting started guide '\n",
              "                                   'for chains, to get you up and running '\n",
              "                                   'quickly. Key Concepts: A conceptual guide '\n",
              "                                   'going over the various concepts related to '\n",
              "                                   'chains. How-To Guides: A collection of '\n",
              "                                   'how-to guides. These highlight how to use '\n",
              "                                   'various types of chains. Reference: API '\n",
              "                                   'reference documentation for all Chain '\n",
              "                                   'classes. previous Vector DB Text '\n",
              "                                   'Generation next Getting Started By '\n",
              "                                   'Harrison Chase © Copyright 2023, Harrison '\n",
              "                                   'Chase. Last updated on Mar 24, 2023.',\n",
              "                           'url': 'https://langchain.readthedocs.io/en/latest/modules/chains.html'},\n",
              "              'score': 0.88483703,\n",
              "              'sparse_values': {'indices': [], 'values': []},\n",
              "              'values': []},\n",
              "             {'id': '1d480633-4821-4cbb-b569-38b44667f14a',\n",
              "              'metadata': {'chunk': 0.0,\n",
              "                           'text': '.rst .pdf LLMs LLMs# Large Language Models '\n",
              "                                   '(LLMs) are a core component of LangChain. '\n",
              "                                   'LangChain is not a provider of LLMs, but '\n",
              "                                   'rather provides a standard interface '\n",
              "                                   'through which you can interact with a '\n",
              "                                   'variety of LLMs. The following sections of '\n",
              "                                   'documentation are provided: Getting '\n",
              "                                   'Started: An overview of all the '\n",
              "                                   'functionality the LangChain LLM class '\n",
              "                                   'provides. Key Concepts: A conceptual guide '\n",
              "                                   'going over the various concepts related to '\n",
              "                                   'LLMs. How-To Guides: A collection of '\n",
              "                                   'how-to guides. These highlight how to '\n",
              "                                   'accomplish various objectives with our LLM '\n",
              "                                   'class, as well as how to integrate with '\n",
              "                                   'various LLM providers. Reference: API '\n",
              "                                   'reference documentation for all LLM '\n",
              "                                   'classes. previous Example Selector next '\n",
              "                                   'Getting Started By Harrison Chase © '\n",
              "                                   'Copyright 2023, Harrison Chase. Last '\n",
              "                                   'updated on Mar 24, 2023.',\n",
              "                           'url': 'https://langchain.readthedocs.io/en/latest/modules/llms.html'},\n",
              "              'score': 0.8611048,\n",
              "              'sparse_values': {'indices': [], 'values': []},\n",
              "              'values': []},\n",
              "             {'id': '770f148b-01de-4eed-9ae0-83e6593333b4',\n",
              "              'metadata': {'chunk': 0.0,\n",
              "                           'text': '.ipynb .pdf Getting Started Contents Why '\n",
              "                                   'do we need chains? Query an LLM with the '\n",
              "                                   'LLMChain Combine chains with the '\n",
              "                                   'SequentialChain Create a custom chain with '\n",
              "                                   'the Chain class Getting Started# In this '\n",
              "                                   'tutorial, we will learn about creating '\n",
              "                                   'simple chains in LangChain. We will learn '\n",
              "                                   'how to create a chain, add components to '\n",
              "                                   'it, and run it. In this tutorial, we will '\n",
              "                                   'cover: Using a simple LLM chain Creating '\n",
              "                                   'sequential chains Creating a custom chain '\n",
              "                                   'Why do we need chains?# Chains allow us to '\n",
              "                                   'combine multiple components together to '\n",
              "                                   'create a single, coherent application. For '\n",
              "                                   'example, we can create a chain that takes '\n",
              "                                   'user input, formats it with a '\n",
              "                                   'PromptTemplate, and then passes the '\n",
              "                                   'formatted response to an LLM. We can build '\n",
              "                                   'more complex chains by combining multiple '\n",
              "                                   'chains together, or by combining chains '\n",
              "                                   'with other components. Query an LLM with '\n",
              "                                   'the LLMChain# The LLMChain is a simple '\n",
              "                                   'chain that takes in a prompt template, '\n",
              "                                   'formats it with the user input and returns '\n",
              "                                   'the response from an LLM. To use the '\n",
              "                                   'LLMChain, first create a prompt template. '\n",
              "                                   'from langchain.prompts import '\n",
              "                                   'PromptTemplate from langchain.llms import '\n",
              "                                   'OpenAI llm = OpenAI(temperature=0.9) '\n",
              "                                   'prompt = PromptTemplate( '\n",
              "                                   'input_variables=[\"product\"], '\n",
              "                                   'template=\"What is a good',\n",
              "                           'url': 'https://langchain.readthedocs.io/en/latest/modules/chains/getting_started.html'},\n",
              "              'score': 0.84619063,\n",
              "              'sparse_values': {'indices': [], 'values': []},\n",
              "              'values': []},\n",
              "             {'id': '2ccc83f1-b73d-4e00-ac98-8183bbff0d78',\n",
              "              'metadata': {'chunk': 1.0,\n",
              "                           'text': 'chain first uses a LLM to construct the '\n",
              "                                   'url to hit, then makes that request with '\n",
              "                                   'the Requests wrapper, and finally runs '\n",
              "                                   'that result through the language model '\n",
              "                                   'again in order to product a natural '\n",
              "                                   'language response. Example Notebook '\n",
              "                                   'LLMBash Chain Links Used: BashProcess, '\n",
              "                                   'LLMChain Notes: This chain takes user '\n",
              "                                   'input (a question), uses an LLM chain to '\n",
              "                                   'convert it to a bash command to run in the '\n",
              "                                   'terminal, and then returns that as the '\n",
              "                                   'result. Example Notebook LLMChecker Chain '\n",
              "                                   'Links Used: LLMChain Notes: This chain '\n",
              "                                   'takes user input (a question), uses an LLM '\n",
              "                                   'chain to answer that question, and then '\n",
              "                                   'uses other LLMChains to self-check that '\n",
              "                                   'answer. Example Notebook LLMRequests Chain '\n",
              "                                   'Links Used: Requests, LLMChain Notes: This '\n",
              "                                   'chain takes a URL and other inputs, uses '\n",
              "                                   'Requests to get the data at that URL, and '\n",
              "                                   'then passes that along with the other '\n",
              "                                   'inputs into an LLMChain to generate a '\n",
              "                                   'response. The example included shows how '\n",
              "                                   'to ask a question to Google - it firsts '\n",
              "                                   'constructs a Google url, then fetches the '\n",
              "                                   'data there, then passes that data + the '\n",
              "                                   'original question into an LLMChain to get '\n",
              "                                   'an answer. Example Notebook Moderation '\n",
              "                                   'Chain Links Used: LLMChain, '\n",
              "                                   'ModerationChain Notes: This chain shows '\n",
              "                                   'how to use OpenAI’s content',\n",
              "                           'url': 'https://langchain.readthedocs.io/en/latest/modules/chains/utility_how_to.html'},\n",
              "              'score': 0.8451713,\n",
              "              'sparse_values': {'indices': [], 'values': []},\n",
              "              'values': []},\n",
              "             {'id': 'dedef8fa-f043-4d52-86ed-91b9899aafd3',\n",
              "              'metadata': {'chunk': 1.0,\n",
              "                           'text': 'Prompts: This includes prompt management, '\n",
              "                                   'prompt optimization, and prompt '\n",
              "                                   'serialization. LLMs: This includes a '\n",
              "                                   'generic interface for all LLMs, and common '\n",
              "                                   'utilities for working with LLMs. Document '\n",
              "                                   'Loaders: This includes a standard '\n",
              "                                   'interface for loading documents, as well '\n",
              "                                   'as specific integrations to all types of '\n",
              "                                   'text data sources. Utils: Language models '\n",
              "                                   'are often more powerful when interacting '\n",
              "                                   'with other sources of knowledge or '\n",
              "                                   'computation. This can include Python '\n",
              "                                   'REPLs, embeddings, search engines, and '\n",
              "                                   'more. LangChain provides a large '\n",
              "                                   'collection of common utils to use in your '\n",
              "                                   'application. Chains: Chains go beyond just '\n",
              "                                   'a single LLM call, and are sequences of '\n",
              "                                   'calls (whether to an LLM or a different '\n",
              "                                   'utility). LangChain provides a standard '\n",
              "                                   'interface for chains, lots of integrations '\n",
              "                                   'with other tools, and end-to-end chains '\n",
              "                                   'for common applications. Indexes: Language '\n",
              "                                   'models are often more powerful when '\n",
              "                                   'combined with your own text data - this '\n",
              "                                   'module covers best practices for doing '\n",
              "                                   'exactly that. Agents: Agents involve an '\n",
              "                                   'LLM making decisions about which Actions '\n",
              "                                   'to take, taking that Action, seeing an '\n",
              "                                   'Observation, and repeating that until '\n",
              "                                   'done. LangChain provides a standard '\n",
              "                                   'interface for agents, a selection of '\n",
              "                                   'agents to choose from, and examples of end '\n",
              "                                   'to end agents. Memory: Memory is the',\n",
              "                           'url': 'https://langchain.readthedocs.io/en/latest/'},\n",
              "              'score': 0.84265494,\n",
              "              'sparse_values': {'indices': [], 'values': []},\n",
              "              'values': []}],\n",
              " 'namespace': ''}"
            ]
          },
          "metadata": {},
          "execution_count": 20
        }
      ],
      "source": [
        "res"
      ]
    },
    {
      "cell_type": "markdown",
      "metadata": {
        "id": "MoBSiDLIUADZ"
      },
      "source": [
        "With retrieval complete, we move on to feeding these into GPT-4 to produce answers."
      ]
    },
    {
      "cell_type": "markdown",
      "metadata": {
        "id": "qfzS4-6-UXgX"
      },
      "source": [
        "## Retrieval Augmented Generation"
      ]
    },
    {
      "cell_type": "markdown",
      "metadata": {
        "id": "XPC1jQaKUcy0"
      },
      "source": [
        "GPT-4 is currently accessed via the `ChatCompletions` endpoint of OpenAI. To add the information we retrieved into the model, we need to pass it into our user prompts *alongside* our original query. We can do that like so:"
      ]
    },
    {
      "cell_type": "code",
      "execution_count": 22,
      "metadata": {
        "id": "unZstoHNUHeG"
      },
      "outputs": [],
      "source": [
        "# get list of retrieved text\n",
        "contexts = [item['metadata']['text'] for item in res['matches']]\n",
        "\n",
        "augmented_query = \"\\n\\n---\\n\\n\".join(contexts)+\"\\n\\n-----\\n\\n\"+query"
      ]
    },
    {
      "cell_type": "code",
      "execution_count": 23,
      "metadata": {
        "colab": {
          "base_uri": "https://localhost:8080/"
        },
        "id": "LRcEHm0Z9fXE",
        "outputId": "98ebe40c-ec5a-4a62-8b23-d9605a79c0bd"
      },
      "outputs": [
        {
          "output_type": "stream",
          "name": "stdout",
          "text": [
            ".rst .pdf Chains Chains# Using an LLM in isolation is fine for some simple applications, but many more complex ones require chaining LLMs - either with each other or with other experts. LangChain provides a standard interface for Chains, as well as some common implementations of chains for ease of use. The following sections of documentation are provided: Getting Started: A getting started guide for chains, to get you up and running quickly. Key Concepts: A conceptual guide going over the various concepts related to chains. How-To Guides: A collection of how-to guides. These highlight how to use various types of chains. Reference: API reference documentation for all Chain classes. previous Vector DB Text Generation next Getting Started By Harrison Chase © Copyright 2023, Harrison Chase. Last updated on Mar 24, 2023.\n",
            "\n",
            "---\n",
            "\n",
            ".rst .pdf Chains Chains# Using an LLM in isolation is fine for some simple applications, but many more complex ones require chaining LLMs - either with each other or with other experts. LangChain provides a standard interface for Chains, as well as some common implementations of chains for ease of use. The following sections of documentation are provided: Getting Started: A getting started guide for chains, to get you up and running quickly. Key Concepts: A conceptual guide going over the various concepts related to chains. How-To Guides: A collection of how-to guides. These highlight how to use various types of chains. Reference: API reference documentation for all Chain classes. previous Vector DB Text Generation next Getting Started By Harrison Chase © Copyright 2023, Harrison Chase. Last updated on Mar 24, 2023.\n",
            "\n",
            "---\n",
            "\n",
            ".rst .pdf LLMs LLMs# Large Language Models (LLMs) are a core component of LangChain. LangChain is not a provider of LLMs, but rather provides a standard interface through which you can interact with a variety of LLMs. The following sections of documentation are provided: Getting Started: An overview of all the functionality the LangChain LLM class provides. Key Concepts: A conceptual guide going over the various concepts related to LLMs. How-To Guides: A collection of how-to guides. These highlight how to accomplish various objectives with our LLM class, as well as how to integrate with various LLM providers. Reference: API reference documentation for all LLM classes. previous Example Selector next Getting Started By Harrison Chase © Copyright 2023, Harrison Chase. Last updated on Mar 24, 2023.\n",
            "\n",
            "---\n",
            "\n",
            ".rst .pdf LLMs LLMs# Large Language Models (LLMs) are a core component of LangChain. LangChain is not a provider of LLMs, but rather provides a standard interface through which you can interact with a variety of LLMs. The following sections of documentation are provided: Getting Started: An overview of all the functionality the LangChain LLM class provides. Key Concepts: A conceptual guide going over the various concepts related to LLMs. How-To Guides: A collection of how-to guides. These highlight how to accomplish various objectives with our LLM class, as well as how to integrate with various LLM providers. Reference: API reference documentation for all LLM classes. previous Example Selector next Getting Started By Harrison Chase © Copyright 2023, Harrison Chase. Last updated on Mar 24, 2023.\n",
            "\n",
            "---\n",
            "\n",
            ".ipynb .pdf Getting Started Contents Why do we need chains? Query an LLM with the LLMChain Combine chains with the SequentialChain Create a custom chain with the Chain class Getting Started# In this tutorial, we will learn about creating simple chains in LangChain. We will learn how to create a chain, add components to it, and run it. In this tutorial, we will cover: Using a simple LLM chain Creating sequential chains Creating a custom chain Why do we need chains?# Chains allow us to combine multiple components together to create a single, coherent application. For example, we can create a chain that takes user input, formats it with a PromptTemplate, and then passes the formatted response to an LLM. We can build more complex chains by combining multiple chains together, or by combining chains with other components. Query an LLM with the LLMChain# The LLMChain is a simple chain that takes in a prompt template, formats it with the user input and returns the response from an LLM. To use the LLMChain, first create a prompt template. from langchain.prompts import PromptTemplate from langchain.llms import OpenAI llm = OpenAI(temperature=0.9) prompt = PromptTemplate( input_variables=[\"product\"], template=\"What is a good\n",
            "\n",
            "-----\n",
            "\n",
            "how do I use the LLMChain in LangChain?\n"
          ]
        }
      ],
      "source": [
        "print(augmented_query)"
      ]
    },
    {
      "cell_type": "markdown",
      "metadata": {
        "id": "sihH_GMiV5_p"
      },
      "source": [
        "Now we ask the question:"
      ]
    },
    {
      "cell_type": "code",
      "execution_count": 24,
      "metadata": {
        "id": "IThBqBi8V70d"
      },
      "outputs": [],
      "source": [
        "# system message to 'prime' the model\n",
        "primer = f\"\"\"You are Q&A bot. A highly intelligent system that answers\n",
        "user questions based on the information provided by the user above\n",
        "each question. If the information can not be found in the information\n",
        "provided by the user you truthfully say \"I don't know\".\n",
        "\"\"\"\n",
        "\n",
        "res = openai.ChatCompletion.create(\n",
        "    model=\"gpt-3.5-turbo\",\n",
        "    messages=[\n",
        "        {\"role\": \"system\", \"content\": primer},\n",
        "        {\"role\": \"user\", \"content\": augmented_query}\n",
        "    ]\n",
        ")"
      ]
    },
    {
      "cell_type": "markdown",
      "metadata": {
        "id": "QvS1yJhOWpiJ"
      },
      "source": [
        "To display this response nicely, we will display it in markdown."
      ]
    },
    {
      "cell_type": "code",
      "execution_count": 25,
      "metadata": {
        "colab": {
          "base_uri": "https://localhost:8080/",
          "height": 81
        },
        "id": "RDo2qeMHWto1",
        "outputId": "280dcc62-2105-4040-ef3b-5bb9412e205b"
      },
      "outputs": [
        {
          "output_type": "display_data",
          "data": {
            "text/plain": [
              "<IPython.core.display.Markdown object>"
            ],
            "text/markdown": "To use the LLMChain in LangChain, you first create a prompt template using the `PromptTemplate` class from `langchain.prompts`, then create an LLM object from the desired LLM provider, and finally create an `LLMChain` object using the prompt template and LLM object. You can then query the LLM using the `query` method of the `LLMChain` object."
          },
          "metadata": {}
        }
      ],
      "source": [
        "from IPython.display import Markdown\n",
        "\n",
        "display(Markdown(res['choices'][0]['message']['content']))"
      ]
    },
    {
      "cell_type": "markdown",
      "metadata": {
        "id": "eJ-a8MHg0eYQ"
      },
      "source": [
        "Let's compare this to a non-augmented query..."
      ]
    },
    {
      "cell_type": "code",
      "execution_count": 26,
      "metadata": {
        "colab": {
          "base_uri": "https://localhost:8080/",
          "height": 64
        },
        "id": "vwhaSgdF0ZDX",
        "outputId": "44ec6816-fa1e-4688-ddd2-4a8531ff8b54"
      },
      "outputs": [
        {
          "output_type": "display_data",
          "data": {
            "text/plain": [
              "<IPython.core.display.Markdown object>"
            ],
            "text/markdown": "I'm sorry, but I cannot provide an accurate answer without further information. LLMChain and LangChain are not widely known technologies, and I don't have enough context about them. Could you provide more information or clarify your question?"
          },
          "metadata": {}
        }
      ],
      "source": [
        "res = openai.ChatCompletion.create(\n",
        "    model=\"gpt-3.5-turbo\",\n",
        "    messages=[\n",
        "        {\"role\": \"system\", \"content\": primer},\n",
        "        {\"role\": \"user\", \"content\": query}\n",
        "    ]\n",
        ")\n",
        "display(Markdown(res['choices'][0]['message']['content']))"
      ]
    },
    {
      "cell_type": "markdown",
      "metadata": {
        "id": "5CSsA-dW0m_P"
      },
      "source": [
        "If we drop the `\"I don't know\"` part of the `primer`?"
      ]
    },
    {
      "cell_type": "code",
      "execution_count": 27,
      "metadata": {
        "colab": {
          "base_uri": "https://localhost:8080/",
          "height": 290
        },
        "id": "Z3svdTCZ0iJ2",
        "outputId": "3a02b317-39d1-4c7e-fb39-4442e65e086e"
      },
      "outputs": [
        {
          "output_type": "display_data",
          "data": {
            "text/plain": [
              "<IPython.core.display.Markdown object>"
            ],
            "text/markdown": "The LLMChain is a unique feature of the LangChain platform that allows users to create and execute smart contracts. Here is a step-by-step guide on how to use LLMChain:\n\n1. Log in to your LangChain account.\n\n2. Click on the \"LLMChain\" tab on the left-hand side of the screen.\n\n3. To create a smart contract, click on \"Create new contract\" and input the necessary details such as the contract name, description, and terms.\n\n4. After creating the contract, click on the \"Compile\" button to compile the contract code.\n\n5. Once the contract is compiled, you can then deploy it by clicking on the \"Deploy\" button.\n\n6. Once the contract is deployed, you can interact with it by sending transactions to it.\n\n7. To send a transaction, click on the \"Interact\" button next to the deployed contract.\n\n8. Input the necessary parameters for the transaction and click on the \"Send\" button to execute your transaction.\n\nThat's it! With LLMChain, you can create and execute smart contracts on LangChain with ease."
          },
          "metadata": {}
        }
      ],
      "source": [
        "res = openai.ChatCompletion.create(\n",
        "    model=\"gpt-3.5-turbo\",\n",
        "    messages=[\n",
        "        {\"role\": \"system\", \"content\": \"You are Q&A bot. A highly intelligent system that answers user questions\"},\n",
        "        {\"role\": \"user\", \"content\": query}\n",
        "    ]\n",
        ")\n",
        "display(Markdown(res['choices'][0]['message']['content']))"
      ]
    },
    {
      "cell_type": "code",
      "execution_count": null,
      "metadata": {
        "id": "kqDEXo3c0w1K"
      },
      "outputs": [],
      "source": []
    }
  ],
  "metadata": {
    "colab": {
      "provenance": []
    },
    "kernelspec": {
      "display_name": "Python 3",
      "name": "python3"
    },
    "language_info": {
      "name": "python"
    },
    "widgets": {
      "application/vnd.jupyter.widget-state+json": {
        "428392d5fd3542a187af27ae06120688": {
          "model_module": "@jupyter-widgets/controls",
          "model_name": "HBoxModel",
          "model_module_version": "1.5.0",
          "state": {
            "_dom_classes": [],
            "_model_module": "@jupyter-widgets/controls",
            "_model_module_version": "1.5.0",
            "_model_name": "HBoxModel",
            "_view_count": null,
            "_view_module": "@jupyter-widgets/controls",
            "_view_module_version": "1.5.0",
            "_view_name": "HBoxView",
            "box_style": "",
            "children": [
              "IPY_MODEL_d193778e1b634675bfcfdfa4aef17096",
              "IPY_MODEL_53ef17b0aa794f33aa91ef120e38f8b9",
              "IPY_MODEL_7555c072b542435abc85e59177753fc4"
            ],
            "layout": "IPY_MODEL_a2f5c857fc1f4b3a9a33066803a3e02a"
          }
        },
        "d193778e1b634675bfcfdfa4aef17096": {
          "model_module": "@jupyter-widgets/controls",
          "model_name": "HTMLModel",
          "model_module_version": "1.5.0",
          "state": {
            "_dom_classes": [],
            "_model_module": "@jupyter-widgets/controls",
            "_model_module_version": "1.5.0",
            "_model_name": "HTMLModel",
            "_view_count": null,
            "_view_module": "@jupyter-widgets/controls",
            "_view_module_version": "1.5.0",
            "_view_name": "HTMLView",
            "description": "",
            "description_tooltip": null,
            "layout": "IPY_MODEL_007ac0dfd4314eef8f287c67758ae4f0",
            "placeholder": "​",
            "style": "IPY_MODEL_226c7eee0706448ab5b23b4b2b999231",
            "value": "100%"
          }
        },
        "53ef17b0aa794f33aa91ef120e38f8b9": {
          "model_module": "@jupyter-widgets/controls",
          "model_name": "FloatProgressModel",
          "model_module_version": "1.5.0",
          "state": {
            "_dom_classes": [],
            "_model_module": "@jupyter-widgets/controls",
            "_model_module_version": "1.5.0",
            "_model_name": "FloatProgressModel",
            "_view_count": null,
            "_view_module": "@jupyter-widgets/controls",
            "_view_module_version": "1.5.0",
            "_view_name": "ProgressView",
            "bar_style": "success",
            "description": "",
            "description_tooltip": null,
            "layout": "IPY_MODEL_6769c482744345e6ac30155f1b0372f3",
            "max": 241,
            "min": 0,
            "orientation": "horizontal",
            "style": "IPY_MODEL_4af1f4a2cce2449a87ac6203dd6b9553",
            "value": 241
          }
        },
        "7555c072b542435abc85e59177753fc4": {
          "model_module": "@jupyter-widgets/controls",
          "model_name": "HTMLModel",
          "model_module_version": "1.5.0",
          "state": {
            "_dom_classes": [],
            "_model_module": "@jupyter-widgets/controls",
            "_model_module_version": "1.5.0",
            "_model_name": "HTMLModel",
            "_view_count": null,
            "_view_module": "@jupyter-widgets/controls",
            "_view_module_version": "1.5.0",
            "_view_name": "HTMLView",
            "description": "",
            "description_tooltip": null,
            "layout": "IPY_MODEL_03be4a86d6784d75bf5cc5a50ef1daba",
            "placeholder": "​",
            "style": "IPY_MODEL_d7a996e60fbb4bb89447f55aba1260b6",
            "value": " 241/241 [00:02&lt;00:00, 137.57it/s]"
          }
        },
        "a2f5c857fc1f4b3a9a33066803a3e02a": {
          "model_module": "@jupyter-widgets/base",
          "model_name": "LayoutModel",
          "model_module_version": "1.2.0",
          "state": {
            "_model_module": "@jupyter-widgets/base",
            "_model_module_version": "1.2.0",
            "_model_name": "LayoutModel",
            "_view_count": null,
            "_view_module": "@jupyter-widgets/base",
            "_view_module_version": "1.2.0",
            "_view_name": "LayoutView",
            "align_content": null,
            "align_items": null,
            "align_self": null,
            "border": null,
            "bottom": null,
            "display": null,
            "flex": null,
            "flex_flow": null,
            "grid_area": null,
            "grid_auto_columns": null,
            "grid_auto_flow": null,
            "grid_auto_rows": null,
            "grid_column": null,
            "grid_gap": null,
            "grid_row": null,
            "grid_template_areas": null,
            "grid_template_columns": null,
            "grid_template_rows": null,
            "height": null,
            "justify_content": null,
            "justify_items": null,
            "left": null,
            "margin": null,
            "max_height": null,
            "max_width": null,
            "min_height": null,
            "min_width": null,
            "object_fit": null,
            "object_position": null,
            "order": null,
            "overflow": null,
            "overflow_x": null,
            "overflow_y": null,
            "padding": null,
            "right": null,
            "top": null,
            "visibility": null,
            "width": null
          }
        },
        "007ac0dfd4314eef8f287c67758ae4f0": {
          "model_module": "@jupyter-widgets/base",
          "model_name": "LayoutModel",
          "model_module_version": "1.2.0",
          "state": {
            "_model_module": "@jupyter-widgets/base",
            "_model_module_version": "1.2.0",
            "_model_name": "LayoutModel",
            "_view_count": null,
            "_view_module": "@jupyter-widgets/base",
            "_view_module_version": "1.2.0",
            "_view_name": "LayoutView",
            "align_content": null,
            "align_items": null,
            "align_self": null,
            "border": null,
            "bottom": null,
            "display": null,
            "flex": null,
            "flex_flow": null,
            "grid_area": null,
            "grid_auto_columns": null,
            "grid_auto_flow": null,
            "grid_auto_rows": null,
            "grid_column": null,
            "grid_gap": null,
            "grid_row": null,
            "grid_template_areas": null,
            "grid_template_columns": null,
            "grid_template_rows": null,
            "height": null,
            "justify_content": null,
            "justify_items": null,
            "left": null,
            "margin": null,
            "max_height": null,
            "max_width": null,
            "min_height": null,
            "min_width": null,
            "object_fit": null,
            "object_position": null,
            "order": null,
            "overflow": null,
            "overflow_x": null,
            "overflow_y": null,
            "padding": null,
            "right": null,
            "top": null,
            "visibility": null,
            "width": null
          }
        },
        "226c7eee0706448ab5b23b4b2b999231": {
          "model_module": "@jupyter-widgets/controls",
          "model_name": "DescriptionStyleModel",
          "model_module_version": "1.5.0",
          "state": {
            "_model_module": "@jupyter-widgets/controls",
            "_model_module_version": "1.5.0",
            "_model_name": "DescriptionStyleModel",
            "_view_count": null,
            "_view_module": "@jupyter-widgets/base",
            "_view_module_version": "1.2.0",
            "_view_name": "StyleView",
            "description_width": ""
          }
        },
        "6769c482744345e6ac30155f1b0372f3": {
          "model_module": "@jupyter-widgets/base",
          "model_name": "LayoutModel",
          "model_module_version": "1.2.0",
          "state": {
            "_model_module": "@jupyter-widgets/base",
            "_model_module_version": "1.2.0",
            "_model_name": "LayoutModel",
            "_view_count": null,
            "_view_module": "@jupyter-widgets/base",
            "_view_module_version": "1.2.0",
            "_view_name": "LayoutView",
            "align_content": null,
            "align_items": null,
            "align_self": null,
            "border": null,
            "bottom": null,
            "display": null,
            "flex": null,
            "flex_flow": null,
            "grid_area": null,
            "grid_auto_columns": null,
            "grid_auto_flow": null,
            "grid_auto_rows": null,
            "grid_column": null,
            "grid_gap": null,
            "grid_row": null,
            "grid_template_areas": null,
            "grid_template_columns": null,
            "grid_template_rows": null,
            "height": null,
            "justify_content": null,
            "justify_items": null,
            "left": null,
            "margin": null,
            "max_height": null,
            "max_width": null,
            "min_height": null,
            "min_width": null,
            "object_fit": null,
            "object_position": null,
            "order": null,
            "overflow": null,
            "overflow_x": null,
            "overflow_y": null,
            "padding": null,
            "right": null,
            "top": null,
            "visibility": null,
            "width": null
          }
        },
        "4af1f4a2cce2449a87ac6203dd6b9553": {
          "model_module": "@jupyter-widgets/controls",
          "model_name": "ProgressStyleModel",
          "model_module_version": "1.5.0",
          "state": {
            "_model_module": "@jupyter-widgets/controls",
            "_model_module_version": "1.5.0",
            "_model_name": "ProgressStyleModel",
            "_view_count": null,
            "_view_module": "@jupyter-widgets/base",
            "_view_module_version": "1.2.0",
            "_view_name": "StyleView",
            "bar_color": null,
            "description_width": ""
          }
        },
        "03be4a86d6784d75bf5cc5a50ef1daba": {
          "model_module": "@jupyter-widgets/base",
          "model_name": "LayoutModel",
          "model_module_version": "1.2.0",
          "state": {
            "_model_module": "@jupyter-widgets/base",
            "_model_module_version": "1.2.0",
            "_model_name": "LayoutModel",
            "_view_count": null,
            "_view_module": "@jupyter-widgets/base",
            "_view_module_version": "1.2.0",
            "_view_name": "LayoutView",
            "align_content": null,
            "align_items": null,
            "align_self": null,
            "border": null,
            "bottom": null,
            "display": null,
            "flex": null,
            "flex_flow": null,
            "grid_area": null,
            "grid_auto_columns": null,
            "grid_auto_flow": null,
            "grid_auto_rows": null,
            "grid_column": null,
            "grid_gap": null,
            "grid_row": null,
            "grid_template_areas": null,
            "grid_template_columns": null,
            "grid_template_rows": null,
            "height": null,
            "justify_content": null,
            "justify_items": null,
            "left": null,
            "margin": null,
            "max_height": null,
            "max_width": null,
            "min_height": null,
            "min_width": null,
            "object_fit": null,
            "object_position": null,
            "order": null,
            "overflow": null,
            "overflow_x": null,
            "overflow_y": null,
            "padding": null,
            "right": null,
            "top": null,
            "visibility": null,
            "width": null
          }
        },
        "d7a996e60fbb4bb89447f55aba1260b6": {
          "model_module": "@jupyter-widgets/controls",
          "model_name": "DescriptionStyleModel",
          "model_module_version": "1.5.0",
          "state": {
            "_model_module": "@jupyter-widgets/controls",
            "_model_module_version": "1.5.0",
            "_model_name": "DescriptionStyleModel",
            "_view_count": null,
            "_view_module": "@jupyter-widgets/base",
            "_view_module_version": "1.2.0",
            "_view_name": "StyleView",
            "description_width": ""
          }
        },
        "6ba89c17ace64e5698318308d355d9d5": {
          "model_module": "@jupyter-widgets/controls",
          "model_name": "HBoxModel",
          "model_module_version": "1.5.0",
          "state": {
            "_dom_classes": [],
            "_model_module": "@jupyter-widgets/controls",
            "_model_module_version": "1.5.0",
            "_model_name": "HBoxModel",
            "_view_count": null,
            "_view_module": "@jupyter-widgets/controls",
            "_view_module_version": "1.5.0",
            "_view_name": "HBoxView",
            "box_style": "",
            "children": [
              "IPY_MODEL_d372ff6f160446f080dffbee5b771cba",
              "IPY_MODEL_1e73ff7b12b541ab8f84ed9d66c51b3e",
              "IPY_MODEL_07c2a0f948ea40b984b857fb62c13d05"
            ],
            "layout": "IPY_MODEL_40426d5f9b394fbcb5c02164ade90d8d"
          }
        },
        "d372ff6f160446f080dffbee5b771cba": {
          "model_module": "@jupyter-widgets/controls",
          "model_name": "HTMLModel",
          "model_module_version": "1.5.0",
          "state": {
            "_dom_classes": [],
            "_model_module": "@jupyter-widgets/controls",
            "_model_module_version": "1.5.0",
            "_model_name": "HTMLModel",
            "_view_count": null,
            "_view_module": "@jupyter-widgets/controls",
            "_view_module_version": "1.5.0",
            "_view_name": "HTMLView",
            "description": "",
            "description_tooltip": null,
            "layout": "IPY_MODEL_fe4c3aee82304ddabe65a1ede7c3d0be",
            "placeholder": "​",
            "style": "IPY_MODEL_d4b71b5d94114ed5824ccf26d73e297f",
            "value": "100%"
          }
        },
        "1e73ff7b12b541ab8f84ed9d66c51b3e": {
          "model_module": "@jupyter-widgets/controls",
          "model_name": "FloatProgressModel",
          "model_module_version": "1.5.0",
          "state": {
            "_dom_classes": [],
            "_model_module": "@jupyter-widgets/controls",
            "_model_module_version": "1.5.0",
            "_model_name": "FloatProgressModel",
            "_view_count": null,
            "_view_module": "@jupyter-widgets/controls",
            "_view_module_version": "1.5.0",
            "_view_name": "ProgressView",
            "bar_style": "success",
            "description": "",
            "description_tooltip": null,
            "layout": "IPY_MODEL_54ef9af034c44294827f400c75372c50",
            "max": 12,
            "min": 0,
            "orientation": "horizontal",
            "style": "IPY_MODEL_cb6c37041fdf4acd863a9430e5288374",
            "value": 12
          }
        },
        "07c2a0f948ea40b984b857fb62c13d05": {
          "model_module": "@jupyter-widgets/controls",
          "model_name": "HTMLModel",
          "model_module_version": "1.5.0",
          "state": {
            "_dom_classes": [],
            "_model_module": "@jupyter-widgets/controls",
            "_model_module_version": "1.5.0",
            "_model_name": "HTMLModel",
            "_view_count": null,
            "_view_module": "@jupyter-widgets/controls",
            "_view_module_version": "1.5.0",
            "_view_name": "HTMLView",
            "description": "",
            "description_tooltip": null,
            "layout": "IPY_MODEL_6570505c037f48f187344b1223a85a6a",
            "placeholder": "​",
            "style": "IPY_MODEL_6c719f94915a47edabac3eacf0f3a6ca",
            "value": " 12/12 [00:09&lt;00:00,  1.39it/s]"
          }
        },
        "40426d5f9b394fbcb5c02164ade90d8d": {
          "model_module": "@jupyter-widgets/base",
          "model_name": "LayoutModel",
          "model_module_version": "1.2.0",
          "state": {
            "_model_module": "@jupyter-widgets/base",
            "_model_module_version": "1.2.0",
            "_model_name": "LayoutModel",
            "_view_count": null,
            "_view_module": "@jupyter-widgets/base",
            "_view_module_version": "1.2.0",
            "_view_name": "LayoutView",
            "align_content": null,
            "align_items": null,
            "align_self": null,
            "border": null,
            "bottom": null,
            "display": null,
            "flex": null,
            "flex_flow": null,
            "grid_area": null,
            "grid_auto_columns": null,
            "grid_auto_flow": null,
            "grid_auto_rows": null,
            "grid_column": null,
            "grid_gap": null,
            "grid_row": null,
            "grid_template_areas": null,
            "grid_template_columns": null,
            "grid_template_rows": null,
            "height": null,
            "justify_content": null,
            "justify_items": null,
            "left": null,
            "margin": null,
            "max_height": null,
            "max_width": null,
            "min_height": null,
            "min_width": null,
            "object_fit": null,
            "object_position": null,
            "order": null,
            "overflow": null,
            "overflow_x": null,
            "overflow_y": null,
            "padding": null,
            "right": null,
            "top": null,
            "visibility": null,
            "width": null
          }
        },
        "fe4c3aee82304ddabe65a1ede7c3d0be": {
          "model_module": "@jupyter-widgets/base",
          "model_name": "LayoutModel",
          "model_module_version": "1.2.0",
          "state": {
            "_model_module": "@jupyter-widgets/base",
            "_model_module_version": "1.2.0",
            "_model_name": "LayoutModel",
            "_view_count": null,
            "_view_module": "@jupyter-widgets/base",
            "_view_module_version": "1.2.0",
            "_view_name": "LayoutView",
            "align_content": null,
            "align_items": null,
            "align_self": null,
            "border": null,
            "bottom": null,
            "display": null,
            "flex": null,
            "flex_flow": null,
            "grid_area": null,
            "grid_auto_columns": null,
            "grid_auto_flow": null,
            "grid_auto_rows": null,
            "grid_column": null,
            "grid_gap": null,
            "grid_row": null,
            "grid_template_areas": null,
            "grid_template_columns": null,
            "grid_template_rows": null,
            "height": null,
            "justify_content": null,
            "justify_items": null,
            "left": null,
            "margin": null,
            "max_height": null,
            "max_width": null,
            "min_height": null,
            "min_width": null,
            "object_fit": null,
            "object_position": null,
            "order": null,
            "overflow": null,
            "overflow_x": null,
            "overflow_y": null,
            "padding": null,
            "right": null,
            "top": null,
            "visibility": null,
            "width": null
          }
        },
        "d4b71b5d94114ed5824ccf26d73e297f": {
          "model_module": "@jupyter-widgets/controls",
          "model_name": "DescriptionStyleModel",
          "model_module_version": "1.5.0",
          "state": {
            "_model_module": "@jupyter-widgets/controls",
            "_model_module_version": "1.5.0",
            "_model_name": "DescriptionStyleModel",
            "_view_count": null,
            "_view_module": "@jupyter-widgets/base",
            "_view_module_version": "1.2.0",
            "_view_name": "StyleView",
            "description_width": ""
          }
        },
        "54ef9af034c44294827f400c75372c50": {
          "model_module": "@jupyter-widgets/base",
          "model_name": "LayoutModel",
          "model_module_version": "1.2.0",
          "state": {
            "_model_module": "@jupyter-widgets/base",
            "_model_module_version": "1.2.0",
            "_model_name": "LayoutModel",
            "_view_count": null,
            "_view_module": "@jupyter-widgets/base",
            "_view_module_version": "1.2.0",
            "_view_name": "LayoutView",
            "align_content": null,
            "align_items": null,
            "align_self": null,
            "border": null,
            "bottom": null,
            "display": null,
            "flex": null,
            "flex_flow": null,
            "grid_area": null,
            "grid_auto_columns": null,
            "grid_auto_flow": null,
            "grid_auto_rows": null,
            "grid_column": null,
            "grid_gap": null,
            "grid_row": null,
            "grid_template_areas": null,
            "grid_template_columns": null,
            "grid_template_rows": null,
            "height": null,
            "justify_content": null,
            "justify_items": null,
            "left": null,
            "margin": null,
            "max_height": null,
            "max_width": null,
            "min_height": null,
            "min_width": null,
            "object_fit": null,
            "object_position": null,
            "order": null,
            "overflow": null,
            "overflow_x": null,
            "overflow_y": null,
            "padding": null,
            "right": null,
            "top": null,
            "visibility": null,
            "width": null
          }
        },
        "cb6c37041fdf4acd863a9430e5288374": {
          "model_module": "@jupyter-widgets/controls",
          "model_name": "ProgressStyleModel",
          "model_module_version": "1.5.0",
          "state": {
            "_model_module": "@jupyter-widgets/controls",
            "_model_module_version": "1.5.0",
            "_model_name": "ProgressStyleModel",
            "_view_count": null,
            "_view_module": "@jupyter-widgets/base",
            "_view_module_version": "1.2.0",
            "_view_name": "StyleView",
            "bar_color": null,
            "description_width": ""
          }
        },
        "6570505c037f48f187344b1223a85a6a": {
          "model_module": "@jupyter-widgets/base",
          "model_name": "LayoutModel",
          "model_module_version": "1.2.0",
          "state": {
            "_model_module": "@jupyter-widgets/base",
            "_model_module_version": "1.2.0",
            "_model_name": "LayoutModel",
            "_view_count": null,
            "_view_module": "@jupyter-widgets/base",
            "_view_module_version": "1.2.0",
            "_view_name": "LayoutView",
            "align_content": null,
            "align_items": null,
            "align_self": null,
            "border": null,
            "bottom": null,
            "display": null,
            "flex": null,
            "flex_flow": null,
            "grid_area": null,
            "grid_auto_columns": null,
            "grid_auto_flow": null,
            "grid_auto_rows": null,
            "grid_column": null,
            "grid_gap": null,
            "grid_row": null,
            "grid_template_areas": null,
            "grid_template_columns": null,
            "grid_template_rows": null,
            "height": null,
            "justify_content": null,
            "justify_items": null,
            "left": null,
            "margin": null,
            "max_height": null,
            "max_width": null,
            "min_height": null,
            "min_width": null,
            "object_fit": null,
            "object_position": null,
            "order": null,
            "overflow": null,
            "overflow_x": null,
            "overflow_y": null,
            "padding": null,
            "right": null,
            "top": null,
            "visibility": null,
            "width": null
          }
        },
        "6c719f94915a47edabac3eacf0f3a6ca": {
          "model_module": "@jupyter-widgets/controls",
          "model_name": "DescriptionStyleModel",
          "model_module_version": "1.5.0",
          "state": {
            "_model_module": "@jupyter-widgets/controls",
            "_model_module_version": "1.5.0",
            "_model_name": "DescriptionStyleModel",
            "_view_count": null,
            "_view_module": "@jupyter-widgets/base",
            "_view_module_version": "1.2.0",
            "_view_name": "StyleView",
            "description_width": ""
          }
        }
      }
    },
    "accelerator": "GPU",
    "gpuClass": "standard"
  },
  "nbformat": 4,
  "nbformat_minor": 0
}