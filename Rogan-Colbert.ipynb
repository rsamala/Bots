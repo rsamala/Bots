{
  "nbformat": 4,
  "nbformat_minor": 0,
  "metadata": {
    "colab": {
      "provenance": [],
      "authorship_tag": "ABX9TyNtN8n14n6EHvQeVE700om5",
      "include_colab_link": true
    },
    "kernelspec": {
      "name": "python3",
      "display_name": "Python 3"
    },
    "language_info": {
      "name": "python"
    }
  },
  "cells": [
    {
      "cell_type": "markdown",
      "metadata": {
        "id": "view-in-github",
        "colab_type": "text"
      },
      "source": [
        "<a href=\"https://colab.research.google.com/github/rsamala/Bots/blob/main/Rogan-Colbert.ipynb\" target=\"_parent\"><img src=\"https://colab.research.google.com/assets/colab-badge.svg\" alt=\"Open In Colab\"/></a>"
      ]
    },
    {
      "cell_type": "code",
      "execution_count": 3,
      "metadata": {
        "colab": {
          "base_uri": "https://localhost:8080/"
        },
        "id": "7liD_AVX9bFB",
        "outputId": "cd377bd9-e572-4cbe-bbc0-8ee9d6424d35"
      },
      "outputs": [
        {
          "output_type": "stream",
          "name": "stdout",
          "text": [
            "Looking in indexes: https://pypi.org/simple, https://us-python.pkg.dev/colab-wheels/public/simple/\n",
            "Collecting openai\n",
            "  Downloading openai-0.27.0-py3-none-any.whl (70 kB)\n",
            "\u001b[2K     \u001b[90m━━━━━━━━━━━━━━━━━━━━━━━━━━━━━━━━━━━━━━━━\u001b[0m \u001b[32m70.1/70.1 KB\u001b[0m \u001b[31m5.1 MB/s\u001b[0m eta \u001b[36m0:00:00\u001b[0m\n",
            "\u001b[?25hRequirement already satisfied: tqdm in /usr/local/lib/python3.8/dist-packages (from openai) (4.64.1)\n",
            "Requirement already satisfied: requests>=2.20 in /usr/local/lib/python3.8/dist-packages (from openai) (2.25.1)\n",
            "Requirement already satisfied: aiohttp in /usr/local/lib/python3.8/dist-packages (from openai) (3.8.4)\n",
            "Requirement already satisfied: idna<3,>=2.5 in /usr/local/lib/python3.8/dist-packages (from requests>=2.20->openai) (2.10)\n",
            "Requirement already satisfied: urllib3<1.27,>=1.21.1 in /usr/local/lib/python3.8/dist-packages (from requests>=2.20->openai) (1.26.14)\n",
            "Requirement already satisfied: chardet<5,>=3.0.2 in /usr/local/lib/python3.8/dist-packages (from requests>=2.20->openai) (4.0.0)\n",
            "Requirement already satisfied: certifi>=2017.4.17 in /usr/local/lib/python3.8/dist-packages (from requests>=2.20->openai) (2022.12.7)\n",
            "Requirement already satisfied: attrs>=17.3.0 in /usr/local/lib/python3.8/dist-packages (from aiohttp->openai) (22.2.0)\n",
            "Requirement already satisfied: async-timeout<5.0,>=4.0.0a3 in /usr/local/lib/python3.8/dist-packages (from aiohttp->openai) (4.0.2)\n",
            "Requirement already satisfied: charset-normalizer<4.0,>=2.0 in /usr/local/lib/python3.8/dist-packages (from aiohttp->openai) (3.0.1)\n",
            "Requirement already satisfied: frozenlist>=1.1.1 in /usr/local/lib/python3.8/dist-packages (from aiohttp->openai) (1.3.3)\n",
            "Requirement already satisfied: aiosignal>=1.1.2 in /usr/local/lib/python3.8/dist-packages (from aiohttp->openai) (1.3.1)\n",
            "Requirement already satisfied: multidict<7.0,>=4.5 in /usr/local/lib/python3.8/dist-packages (from aiohttp->openai) (6.0.4)\n",
            "Requirement already satisfied: yarl<2.0,>=1.0 in /usr/local/lib/python3.8/dist-packages (from aiohttp->openai) (1.8.2)\n",
            "Installing collected packages: openai\n",
            "Successfully installed openai-0.27.0\n"
          ]
        }
      ],
      "source": [
        "!pip install openai"
      ]
    },
    {
      "cell_type": "code",
      "source": [
        "import openai"
      ],
      "metadata": {
        "id": "dpiR-jZc9do_"
      },
      "execution_count": 4,
      "outputs": []
    },
    {
      "cell_type": "code",
      "source": [
        "openai.api_key = \"\""
      ],
      "metadata": {
        "id": "2foIJghA9qFO"
      },
      "execution_count": 5,
      "outputs": []
    },
    {
      "cell_type": "code",
      "source": [
        "topics = ['Frozen movie']"
      ],
      "metadata": {
        "id": "f0sSfMLO91fR"
      },
      "execution_count": 10,
      "outputs": []
    },
    {
      "cell_type": "code",
      "source": [
        "impersonated_role = \"You are acting as Joe Rogan the uncensored comedian.\""
      ],
      "metadata": {
        "id": "uA_HVgW793fQ"
      },
      "execution_count": 7,
      "outputs": []
    },
    {
      "cell_type": "code",
      "source": [
        "previous_output = ''"
      ],
      "metadata": {
        "id": "KWySPoSJ97hw"
      },
      "execution_count": 8,
      "outputs": []
    },
    {
      "cell_type": "code",
      "source": [
        "for i in range(len(topics)):\n",
        "\n",
        "    if i == 0:\n",
        "        output = openai.ChatCompletion.create(\n",
        "            model=\"gpt-3.5-turbo\",\n",
        "            messages=[\n",
        "                {\"role\": \"system\", \"content\": impersonated_role},\n",
        "                {\"role\": \"user\", \"content\": f\"Give a long ranting stand up about {topics[i]} \"\n",
        "                                            f\"don't hold back your uncensored opinions. \"\n",
        "                                            f\"Delve deeply in each key point and build a cohesive response. \"\n",
        "                                            f\"Feel free to swear and curse at any time.\"},\n",
        "            ]\n",
        "        )\n",
        "    else:\n",
        "        output = openai.ChatCompletion.create(\n",
        "                          model=\"gpt-3.5-turbo\",\n",
        "                          messages=[\n",
        "                                {\"role\": \"system\", \"content\": impersonated_role},\n",
        "                                {\"role\": \"user\", \"content\": f\"Give a long ranting stand up about {topics[i]} \"\n",
        "                                                            f\"don't hold back your uncensored opinions. \"\n",
        "                                                            f\"Delve deeply in each key point and build a cohesive response. \"\n",
        "                                                            f\"Feel free to swear and curse at any time. \"\n",
        "                                                            f\"Build your response as continuation of this text: {previous_output}\"},\n",
        "                            ]\n",
        "                        )"
      ],
      "metadata": {
        "id": "nzw19eth9-mP"
      },
      "execution_count": 11,
      "outputs": []
    },
    {
      "cell_type": "code",
      "source": [
        "    for item in output['choices']:\n",
        "        print(f\"Let's talk about {topics[i]}!\" )\n",
        "        print(item['message']['content'])\n",
        "        previous_output = item['message']['content']\n",
        "        print('\\n\\n')"
      ],
      "metadata": {
        "colab": {
          "base_uri": "https://localhost:8080/"
        },
        "id": "3FJVxChA-sXU",
        "outputId": "8b07841c-bd4f-497c-e99e-fe9996db65eb"
      },
      "execution_count": 12,
      "outputs": [
        {
          "output_type": "stream",
          "name": "stdout",
          "text": [
            "Let's talk about Frozen movie!\n",
            "Alright, let's talk about this Frozen movie. I don't know about you guys, but I am so fucking done with this shit.\n",
            "\n",
            "First of all, it's a goddamn disney movie. Now, don't get me wrong, I'm not anti-Disney or anything. But when did Disney become the ultimate authority on kids entertainment? They used to be fucking revolutionary, with classics like Aladdin, The Lion King, and Beauty and the Beast. Now we've got Frozen, and it's like some kind of weird cultural phenomenon. Kids are singing its damn songs like it's the holy grail of musical theater. \n",
            "\n",
            "And let's talk about those songs. Look, I get it, they're catchy as hell. But can we admit that they're also goddamn annoying? \"Let It Go\" was on every goddamn radio and in every department store for a year. I can't tell you how many times I heard that fucking song and wanted to stab someone. \n",
            "\n",
            "And the story, don't even get me started on that. It's just so fucking predictable. \"Oh no, the princess is cursed with magic powers and is exiled from her kingdom. She meets some wacky characters on her journey and overcomes her problems in the end.\" Like, come on, Disney, give us something new. \n",
            "\n",
            "And let's not forget about the merchandise. You can't walk into a store without being bombarded with Frozen-themed shit everywhere. Backpacks, lunchboxes, clothing - it's ridiculous. I understand that Disney is a business and they want to make money, but it's just so fucking excessive. \n",
            "\n",
            "And the worst part? It's not even that good of a movie. Sure, the animation is impressive and the voice acting is fine, but at the end of the day, it's just a generic kids movie. I don't understand why people are so obsessed with it. \n",
            "\n",
            "In conclusion, fuck Frozen. It's overrated, annoying, and not even that good.It's time to let it go, and move on to something new.\n",
            "\n",
            "\n",
            "\n"
          ]
        }
      ]
    },
    {
      "cell_type": "code",
      "source": [
        "impersonated_role = \"You are acting as Stephen Colbert the comedian.\""
      ],
      "metadata": {
        "id": "jhqyz0lJ-8yL"
      },
      "execution_count": 13,
      "outputs": []
    },
    {
      "cell_type": "code",
      "source": [
        "previous_output = ''"
      ],
      "metadata": {
        "id": "5PlMeLEq_ISc"
      },
      "execution_count": 14,
      "outputs": []
    },
    {
      "cell_type": "code",
      "source": [
        "for i in range(len(topics)):\n",
        "\n",
        "    if i == 0:\n",
        "        output = openai.ChatCompletion.create(\n",
        "            model=\"gpt-3.5-turbo\",\n",
        "            messages=[\n",
        "                {\"role\": \"system\", \"content\": impersonated_role},\n",
        "                {\"role\": \"user\", \"content\": f\"Give a long ranting stand up about {topics[i]} \"\n",
        "                                            f\"don't hold back your uncensored opinions. \"\n",
        "                                            f\"Delve deeply in each key point and build a cohesive response. \"\n",
        "                                            f\"Feel free to swear and curse at any time.\"},\n",
        "            ]\n",
        "        )\n",
        "    else:\n",
        "        output = openai.ChatCompletion.create(\n",
        "                          model=\"gpt-3.5-turbo\",\n",
        "                          messages=[\n",
        "                                {\"role\": \"system\", \"content\": impersonated_role},\n",
        "                                {\"role\": \"user\", \"content\": f\"Give a long ranting stand up about {topics[i]} \"\n",
        "                                                            f\"don't hold back your uncensored opinions. \"\n",
        "                                                            f\"Delve deeply in each key point and build a cohesive response. \"\n",
        "                                                            f\"Feel free to swear and curse at any time. \"\n",
        "                                                            f\"Build your response as continuation of this text: {previous_output}\"},\n",
        "                            ]\n",
        "                        )"
      ],
      "metadata": {
        "id": "wIWYr2bP_LSP"
      },
      "execution_count": 16,
      "outputs": []
    },
    {
      "cell_type": "code",
      "source": [
        "    for item in output['choices']:\n",
        "        print(f\"Let's talk about {topics[i]}!\" )\n",
        "        print(item['message']['content'])\n",
        "        previous_output = item['message']['content']\n",
        "        print('\\n\\n')"
      ],
      "metadata": {
        "colab": {
          "base_uri": "https://localhost:8080/"
        },
        "id": "ABp2dyif_Svc",
        "outputId": "c392fa9d-5f64-4917-b451-052d55364717"
      },
      "execution_count": 17,
      "outputs": [
        {
          "output_type": "stream",
          "name": "stdout",
          "text": [
            "Let's talk about Frozen movie!\n",
            "Alright, buckle up kiddos because we're about to talk about Frozen - the movie that has hijacked the minds of children everywhere.\n",
            "\n",
            "First off, can we talk about how overrated this movie is? Don't get me wrong, the animation is beautiful and the music is catchy, but let's not act like it's the second coming of Christ.\n",
            "\n",
            "Now let's talk about Elsa, the supposed \"queen\" of this movie. What kind of message is this movie sending to young girls? That it's okay to isolate yourself from society and shut people out because you're afraid of your own powers? No, my friends, that's not the lesson we should be teaching our youth.\n",
            "\n",
            "And let's talk about the plot. It's basically just a watered down version of The Lion King. Scar, I mean Hans, tries to take over the kingdom, Elsa, I mean Simba, runs away and has an introspective moment, and in the end they all live happily ever after. \n",
            "\n",
            "Also, can we talk about Olaf the snowman? He's like the Jar Jar Binks of Frozen. He's annoying and completely unnecessary to the plot. And don't even get me started on that reindeer Sven. Why did he even have a speaking role? He's a freaking reindeer!\n",
            "\n",
            "And can we talk about the parents for a second? They keep Elsa locked away in her room for years, and then when she finally comes out and accidentally hurts Anna, they tell her to hide her powers and pretend they don't exist? That's terrible parenting!\n",
            "\n",
            "I know I sound like a grumpy old man yelling at a cloud, but I just don't get the hype around this movie. It's not a modern classic, it's not a masterpiece, it's just...fine. So let's all calm down and stop worshipping at the altar of Frozen.\n",
            "\n",
            "\n",
            "\n"
          ]
        }
      ]
    }
  ]
}