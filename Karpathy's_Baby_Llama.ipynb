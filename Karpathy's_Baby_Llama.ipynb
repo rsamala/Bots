{
  "nbformat": 4,
  "nbformat_minor": 0,
  "metadata": {
    "colab": {
      "provenance": [],
      "include_colab_link": true
    },
    "kernelspec": {
      "name": "python3",
      "display_name": "Python 3"
    },
    "language_info": {
      "name": "python"
    }
  },
  "cells": [
    {
      "cell_type": "markdown",
      "metadata": {
        "id": "view-in-github",
        "colab_type": "text"
      },
      "source": [
        "<a href=\"https://colab.research.google.com/github/rsamala/Bots/blob/main/Karpathy's_Baby_Llama.ipynb\" target=\"_parent\"><img src=\"https://colab.research.google.com/assets/colab-badge.svg\" alt=\"Open In Colab\"/></a>"
      ]
    },
    {
      "cell_type": "markdown",
      "source": [
        "Exploring Andrej Karpathy's `llama2.c` aka `Baby Llama`"
      ],
      "metadata": {
        "id": "LkMm2y8kXsr-"
      }
    },
    {
      "cell_type": "markdown",
      "source": [
        "Credit: https://github.com/karpathy/llama2.c"
      ],
      "metadata": {
        "id": "h0tOpBP1Uk6S"
      }
    },
    {
      "cell_type": "markdown",
      "source": [
        "Downloading the smaller model"
      ],
      "metadata": {
        "id": "HzsITa5xXyxl"
      }
    },
    {
      "cell_type": "code",
      "execution_count": 1,
      "metadata": {
        "colab": {
          "base_uri": "https://localhost:8080/"
        },
        "id": "OzMqhOAPSm1J",
        "outputId": "4983b552-64b3-41ed-d20d-84c37b5b077c"
      },
      "outputs": [
        {
          "output_type": "stream",
          "name": "stdout",
          "text": [
            "--2023-07-28 14:31:56--  https://karpathy.ai/llama2c/model.bin\n",
            "Resolving karpathy.ai (karpathy.ai)... 151.101.65.195, 151.101.1.195\n",
            "Connecting to karpathy.ai (karpathy.ai)|151.101.65.195|:443... connected.\n",
            "HTTP request sent, awaiting response... 200 OK\n",
            "Length: 60816028 (58M) [application/octet-stream]\n",
            "Saving to: ‘out/model.bin’\n",
            "\n",
            "model.bin           100%[===================>]  58.00M   153MB/s    in 0.4s    \n",
            "\n",
            "2023-07-28 14:31:56 (153 MB/s) - ‘out/model.bin’ saved [60816028/60816028]\n",
            "\n"
          ]
        }
      ],
      "source": [
        "! wget https://karpathy.ai/llama2c/model.bin -P out"
      ]
    },
    {
      "cell_type": "markdown",
      "source": [
        "Cloning the `llama2.c` repo to get the required files"
      ],
      "metadata": {
        "id": "J1_4CqMqX2xk"
      }
    },
    {
      "cell_type": "code",
      "source": [
        "!git clone https://github.com/karpathy/llama2.c"
      ],
      "metadata": {
        "colab": {
          "base_uri": "https://localhost:8080/"
        },
        "id": "iB0LB6tWU3or",
        "outputId": "9f7d0744-6258-4b60-872c-a36d01a6a86f"
      },
      "execution_count": 2,
      "outputs": [
        {
          "output_type": "stream",
          "name": "stdout",
          "text": [
            "Cloning into 'llama2.c'...\n",
            "remote: Enumerating objects: 463, done.\u001b[K\n",
            "remote: Counting objects: 100% (297/297), done.\u001b[K\n",
            "remote: Compressing objects: 100% (42/42), done.\u001b[K\n",
            "remote: Total 463 (delta 266), reused 255 (delta 255), pack-reused 166\u001b[K\n",
            "Receiving objects: 100% (463/463), 879.63 KiB | 3.50 MiB/s, done.\n",
            "Resolving deltas: 100% (278/278), done.\n"
          ]
        }
      ]
    },
    {
      "cell_type": "code",
      "source": [
        "%cd llama2.c"
      ],
      "metadata": {
        "colab": {
          "base_uri": "https://localhost:8080/"
        },
        "id": "oDgZwB-pU87H",
        "outputId": "7100e204-1205-4312-e1c0-734c2b22fad5"
      },
      "execution_count": 3,
      "outputs": [
        {
          "output_type": "stream",
          "name": "stdout",
          "text": [
            "/content/llama2.c\n"
          ]
        }
      ]
    },
    {
      "cell_type": "markdown",
      "source": [
        "Compiling the C code with O3 (Refer - https://github.com/karpathy/llama2.c/issues/20)"
      ],
      "metadata": {
        "id": "JyObEEUUX68h"
      }
    },
    {
      "cell_type": "code",
      "source": [
        "!gcc -O3 -o run run.c -lm"
      ],
      "metadata": {
        "id": "EeEfWkhDUj0Y"
      },
      "execution_count": 4,
      "outputs": []
    },
    {
      "cell_type": "code",
      "source": [
        "! ./run ../out/model.bin"
      ],
      "metadata": {
        "colab": {
          "base_uri": "https://localhost:8080/"
        },
        "id": "s8DGbhU2VDip",
        "outputId": "a264eca2-0fcb-43bc-dc36-31772119e82f"
      },
      "execution_count": 5,
      "outputs": [
        {
          "output_type": "stream",
          "name": "stdout",
          "text": [
            "<s>\n",
            "Once upon a time, there was a little girl named Lily. She loved to jog in the park with her mommy. One day, while they were jogging, they saw a big billboard with a picture of a happy dog on it. The dog barked and wagged its tail.\n",
            "Lily's mommy said, \"That's a nervous dog. We should try to make friends with it.\" Lily thought about it and said, \"I want to be welcome to jog with him too!\"\n",
            "They jogged over to the billboard and Lily's mommy said, \"Okay, let's take a picture of him.\" They took a picture and then they wanted to make it safe for Lily to jog with the dog.\n",
            "Lily was so happy and excited to see the dog's eyes blink. She said, \"You scared me, but you're welcome to jog with us!\" They both laughed and continued jogging until the sun went down. From that day on, Lily was never afraid of dogs again.\n",
            "<s>\n",
            "Once upon a time, there was a little girl named Lily who loved strawberries. One day, she went to the park with\n",
            "achieved tok/s: 42.813969\n"
          ]
        }
      ]
    },
    {
      "cell_type": "markdown",
      "source": [
        "Compiling the C code with Ofast (Refer - https://github.com/karpathy/llama2.c/issues/20)"
      ],
      "metadata": {
        "id": "d4LiY6llYEce"
      }
    },
    {
      "cell_type": "code",
      "source": [
        "!gcc -Ofast -o run run.c -lm"
      ],
      "metadata": {
        "id": "dzfFjjNaVJUY"
      },
      "execution_count": 6,
      "outputs": []
    },
    {
      "cell_type": "code",
      "source": [
        "! ./run ../out/model.bin"
      ],
      "metadata": {
        "colab": {
          "base_uri": "https://localhost:8080/"
        },
        "id": "yeDovEUZXHvQ",
        "outputId": "5c842379-0d93-4a4b-9beb-c2862544087f"
      },
      "execution_count": 7,
      "outputs": [
        {
          "output_type": "stream",
          "name": "stdout",
          "text": [
            "<s>\n",
            "Once upon a time, there was a happy boy named Tim. Tim loved to play with his toy cars and trucks. One day, Tim's mom took him to the store to buy a new toy. Tim saw a big black toy truck that he really liked. \n",
            "Tim asked his mom if he could take the big black truck home. His mom said yes and they went home. Tim played with the big black truck all day and had so much fun. \n",
            "As the day went on, Tim's mom noticed that the big black truck wasn't there. She asked Tim if the truck was lost, but Tim said no. Tim's mom smiled and said she would buy it for him. Tim was so happy and excited to have his big black truck back.\n",
            "<s>\n",
            "Once upon a time, there was a little girl named Lily. Lily had a new dress that she wanted to wear to the park. She asked her mommy if she could wear her new dress to the park. Her mommy said yes and helped her put on the dress. Lily was very happy and felt like a princess in her new dress. \n",
            "At the park, Lily played on the\n",
            "achieved tok/s: 117.674204\n"
          ]
        }
      ]
    },
    {
      "cell_type": "code",
      "source": [
        "!wget https://karpathy.ai/llama2c/model44m.bin -P out44m\n",
        "!./run out44m/model44m.bin"
      ],
      "metadata": {
        "colab": {
          "base_uri": "https://localhost:8080/"
        },
        "id": "v2dNp4VSXI9M",
        "outputId": "e3bb2f14-b345-43da-f639-5d75f3dc9db2"
      },
      "execution_count": 8,
      "outputs": [
        {
          "output_type": "stream",
          "name": "stdout",
          "text": [
            "--2023-07-28 14:33:21--  https://karpathy.ai/llama2c/model44m.bin\n",
            "Resolving karpathy.ai (karpathy.ai)... 151.101.1.195, 151.101.65.195\n",
            "Connecting to karpathy.ai (karpathy.ai)|151.101.1.195|:443... connected.\n",
            "HTTP request sent, awaiting response... 200 OK\n",
            "Length: 167020572 (159M) [application/octet-stream]\n",
            "Saving to: ‘out44m/model44m.bin’\n",
            "\n",
            "model44m.bin        100%[===================>] 159.28M   191MB/s    in 0.8s    \n",
            "\n",
            "2023-07-28 14:33:22 (191 MB/s) - ‘out44m/model44m.bin’ saved [167020572/167020572]\n",
            "\n",
            "<s>\n",
            "Once upon a time, there was a pretty little cat named Kitty. Kitty loved to play outside. One day, she found a big, round barrel in the yard. She thought it would be fun to jump in it.\n",
            "Kitty jumped into the barrel and found it was full of toys. She played with the toys for a long time. But then, she saw that the barrel was starting to spoil. There were toys all over the yard.\n",
            "Kitty knew she had to get out of the barrel. She pushed the lid off with her paws and ran away. Kitty was safe and happy to be outside again. She promised to be more careful next time.\n",
            "<s>\n",
            "Once upon a time, there was a cute bunny named Binky. Binky loved to hop around and eat carrots. One day, Binky saw a big carrot across the river. Binky wanted to eat the carrot, but didn't know how to cross the river. \n",
            "Binky saw a carrot across the river and thought there might be a way to get to it. Binky asked a frog passing by if he\n",
            "achieved tok/s: 42.936521\n"
          ]
        }
      ]
    },
    {
      "cell_type": "code",
      "source": [
        "!./run out44m/model44m.bin"
      ],
      "metadata": {
        "colab": {
          "base_uri": "https://localhost:8080/"
        },
        "id": "TcAO7EUZGRw9",
        "outputId": "13f0c6be-b0cb-4df9-ebb4-3c5c3f13cdf4"
      },
      "execution_count": 9,
      "outputs": [
        {
          "output_type": "stream",
          "name": "stdout",
          "text": [
            "<s>\n",
            "Once upon a time, there was a little girl named Lily. She loved to play with her dolls and eat candy. One day, Lily's mom took her to a race. Lily saw lots of cars zooming by, and she was amazed.\n",
            "After the race, Lily and her mom went to get hot chocolate. Lily was thirsty, so her mom gave her a cup. Lily took a sip and made a face, \"Yuck! This doesn't taste good.\" Her mom checked the milk and realized it was expired.\n",
            "Lily's mom said they couldn't drink it, but they could try to improve their milk by adding some ice cream. Lily was excited to try it, but when they got home, they realized they had zero milk left. Lily was sad and disappointed. Suddenly, her mom had an idea. She went back to the race and asked for money to fill their free drinks. Lily was happy that they could still have their own victory.\n",
            "<s>\n",
            "Alice and her mom were walking in the park. Alice looked around and saw a huge tree. She asked her mom, \"What's that?\" Her mom\n",
            "achieved tok/s: 43.374724\n"
          ]
        }
      ]
    },
    {
      "cell_type": "markdown",
      "source": [
        "Learning the code from ChatGPT Code Interpreter"
      ],
      "metadata": {
        "id": "GpGBT-_SYOJl"
      }
    },
    {
      "cell_type": "markdown",
      "source": [
        "1. Configuration and Initialization\n",
        "    - Define structures: Config, TransformerWeights, RunState\n",
        "    - Allocate memory for RunState and TransformerWeights\n",
        "\n",
        "2. Read Checkpoint\n",
        "    - Initialize the transformer weights from a checkpoint file\n",
        "\n",
        "3. Main Function\n",
        "    - Read model configuration and weights from a checkpoint file\n",
        "    - Read vocabulary from a tokenizer file\n",
        "    - Initialize the RunState\n",
        "\n",
        "4. Start Loop for Sequence Generation\n",
        "    - Call the transformer function to get the output logits for the next token\n",
        "        - Apply attention mechanism, softmax, RMS normalization, etc.\n",
        "    - Select the next token using sampling or argmax\n",
        "    - Print out the token\n",
        "    - Repeat until a sequence of the maximum length is generated\n",
        "\n",
        "5. Memory Cleanup\n",
        "    - Deallocate memory for RunState and TransformerWeights\n"
      ],
      "metadata": {
        "id": "aqkKYmm3YMsi"
      }
    },
    {
      "cell_type": "markdown",
      "source": [
        "Flow Chart from Code Interpreter"
      ],
      "metadata": {
        "id": "sXqCzOf0Y-XM"
      }
    },
    {
      "cell_type": "markdown",
      "source": [
        "<img src=\"https://i.imgur.com/ux73Gq4.png\" width=\"400\" height=\"400\" />\n"
      ],
      "metadata": {
        "id": "UDqH7331YRev"
      }
    },
    {
      "cell_type": "code",
      "source": [],
      "metadata": {
        "id": "H-a7zWZsYM8y"
      },
      "execution_count": 9,
      "outputs": []
    }
  ]
}